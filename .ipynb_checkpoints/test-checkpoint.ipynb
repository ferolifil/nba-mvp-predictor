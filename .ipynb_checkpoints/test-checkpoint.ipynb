{
 "cells": [
  {
   "cell_type": "code",
   "execution_count": 5,
   "id": "distinguished-overall",
   "metadata": {},
   "outputs": [
    {
     "name": "stdout",
     "output_type": "stream",
     "text": [
      "Atlanta Hawks : ATL\n",
      "Boston Celtics : BOS\n",
      "Brooklyn Nets : BRK\n",
      "Charlotte Hornets : CHO\n",
      "Chicago Bulls : CHI\n",
      "Cleveland Cavaliers : CLE\n",
      "Dallas Mavericks : DAL\n",
      "Denver Nuggets : DEN\n",
      "Detroit Pistons : DET\n",
      "Golden State Warriors : GSW\n",
      "Houston Rockets : HOU\n",
      "Indiana Pacers : IND\n",
      "Los Angeles Clippers : LAC\n",
      "Los Angeles Lakers : LAL\n",
      "Memphis Grizzlies : MEM\n",
      "Miami Heat : MIA\n",
      "Milwaukee Bucks : MIL\n",
      "Minnesota Timberwolves : MIN\n",
      "New Orleans Pelicans : NOP\n",
      "New York Knicks : NYK\n",
      "Oklahoma City Thunder : OKC\n",
      "Orlando Magic : ORL\n",
      "Philadelphia 76ers : PHI\n",
      "Phoenix Suns : PHO\n",
      "Portland Trail Blazers : POR\n",
      "Sacramento Kings : SAC\n",
      "San Antonio Spurs : SAS\n",
      "Toronto Raptors : TOR\n",
      "Utah Jazz : UTA\n",
      "Washington Wizards : WAS\n",
      "Seattle SuperSonics : SEA\n",
      "San Diego Clippers : SDC\n",
      "Kansas City Kings : KCK\n",
      "Washington Bullets : WSB\n",
      "New Jersey Nets : NJN\n",
      "Charlotte Hornets OLD : CHH\n",
      "Vancouver Grizzlies : VAN\n",
      "New Orleans Hornets : NOH\n",
      "Charlotte Bobcats : CHA\n",
      "New Orleans/Oklahoma City Hornets : NOK\n"
     ]
    }
   ],
   "source": [
    "team_dict = {\n",
    "    'Atlanta Hawks' : 'ATL',\n",
    "    'Boston Celtics' : 'BOS',\n",
    "    'Brooklyn Nets' : 'BRK',\n",
    "    'Charlotte Hornets' : 'CHO',\n",
    "    'Chicago Bulls' : 'CHI',\n",
    "    'Cleveland Cavaliers' : 'CLE',\n",
    "    'Dallas Mavericks' : 'DAL',\n",
    "    'Denver Nuggets' : 'DEN',\n",
    "    'Detroit Pistons' : 'DET',\n",
    "    'Golden State Warriors' : 'GSW',\n",
    "    'Houston Rockets' : 'HOU',\n",
    "    'Indiana Pacers' : 'IND',\n",
    "    'Los Angeles Clippers' : 'LAC',\n",
    "    'Los Angeles Lakers' : 'LAL',\n",
    "    'Memphis Grizzlies' : 'MEM',\n",
    "    'Miami Heat' : 'MIA',\n",
    "    'Milwaukee Bucks' : 'MIL',\n",
    "    'Minnesota Timberwolves' : 'MIN',\n",
    "    'New Orleans Pelicans' : 'NOP',\n",
    "    'New York Knicks' : 'NYK',\n",
    "    'Oklahoma City Thunder' : 'OKC',\n",
    "    'Orlando Magic' : 'ORL',\n",
    "    'Philadelphia 76ers' : 'PHI',\n",
    "    'Phoenix Suns' : 'PHO',\n",
    "    'Portland Trail Blazers' : 'POR',\n",
    "    'Sacramento Kings' : 'SAC',\n",
    "    'San Antonio Spurs' : 'SAS',\n",
    "    'Toronto Raptors' : 'TOR',\n",
    "    'Utah Jazz' : 'UTA',\n",
    "    'Washington Wizards' : 'WAS',\n",
    "    'Seattle SuperSonics' : 'SEA',\n",
    "    'San Diego Clippers' : 'SDC',\n",
    "    'Kansas City Kings' : 'KCK',\n",
    "    'Washington Bullets' : 'WSB',\n",
    "    'New Jersey Nets' : 'NJN',\n",
    "    'Charlotte Hornets OLD' : 'CHH', # 1989 - 2002 \n",
    "    'Vancouver Grizzlies' : 'VAN',\n",
    "    'New Orleans Hornets' : 'NOH', # 2003 - 2005 / 2008 - 2014\n",
    "    'Charlotte Bobcats' : 'CHA',\n",
    "    'New Orleans/Oklahoma City Hornets' : 'NOK', # 2006 - 2007\n",
    "    \n",
    "}\n",
    "\n",
    "for name in team_dict.keys():\n",
    "    print('{} : {}'.format(name,team_dict[name]))"
   ]
  },
  {
   "cell_type": "code",
   "execution_count": null,
   "id": "gentle-stuff",
   "metadata": {},
   "outputs": [],
   "source": [
    ": ''"
   ]
  }
 ],
 "metadata": {
  "kernelspec": {
   "display_name": "Python 3",
   "language": "python",
   "name": "python3"
  },
  "language_info": {
   "codemirror_mode": {
    "name": "ipython",
    "version": 3
   },
   "file_extension": ".py",
   "mimetype": "text/x-python",
   "name": "python",
   "nbconvert_exporter": "python",
   "pygments_lexer": "ipython3",
   "version": "3.8.5"
  }
 },
 "nbformat": 4,
 "nbformat_minor": 5
}
