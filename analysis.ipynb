{
 "cells": [
  {
   "cell_type": "markdown",
   "id": "different-conditions",
   "metadata": {},
   "source": [
    "# NBA MVP Prediction"
   ]
  },
  {
   "cell_type": "markdown",
   "id": "grateful-coral",
   "metadata": {},
   "source": [
    "## Appending the csv files to create the Dataset "
   ]
  },
  {
   "cell_type": "code",
   "execution_count": 1,
   "id": "better-contract",
   "metadata": {},
   "outputs": [],
   "source": [
    "import pandas as pd\n",
    "import pathlib\n",
    "import random as rd\n",
    "import numpy as np\n",
    "import seaborn as sns\n",
    "import matplotlib.pyplot as plt\n",
    "import plotly.express as px\n",
    "import time\n",
    "from sklearn.metrics import r2_score, mean_squared_error\n",
    "from sklearn.linear_model import LinearRegression\n",
    "from sklearn.ensemble import RandomForestRegressor, ExtraTreesRegressor\n",
    "from sklearn.neighbors import BallTree\n",
    "from sklearn.model_selection import train_test_split\n",
    "\n",
    "from sklearn.metrics import accuracy_score\n",
    "from sklearn.linear_model import LogisticRegression\n",
    "from sklearn.svm import SVC\n",
    "from sklearn.gaussian_process import GaussianProcessClassifier\n",
    "from sklearn.gaussian_process.kernels import RBF\n",
    "from sklearn import datasets\n",
    "from sklearn.neighbors import KNeighborsClassifier\n",
    "# from sklearn.tree import DecisionTreeRegressor, DecisionTreeClassifier\n",
    "from sklearn import tree\n",
    "\n",
    "from sklearn.model_selection import cross_val_predict\n",
    "from sklearn.model_selection import cross_val_score\n",
    "from sklearn.model_selection import cross_validate"
   ]
  },
  {
   "cell_type": "code",
   "execution_count": 2,
   "id": "eleven-cleaners",
   "metadata": {},
   "outputs": [
    {
     "data": {
      "text/html": [
       "<div>\n",
       "<style scoped>\n",
       "    .dataframe tbody tr th:only-of-type {\n",
       "        vertical-align: middle;\n",
       "    }\n",
       "\n",
       "    .dataframe tbody tr th {\n",
       "        vertical-align: top;\n",
       "    }\n",
       "\n",
       "    .dataframe thead th {\n",
       "        text-align: right;\n",
       "    }\n",
       "</style>\n",
       "<table border=\"1\" class=\"dataframe\">\n",
       "  <thead>\n",
       "    <tr style=\"text-align: right;\">\n",
       "      <th></th>\n",
       "      <th>Player</th>\n",
       "      <th>Pos</th>\n",
       "      <th>Age</th>\n",
       "      <th>G</th>\n",
       "      <th>MP</th>\n",
       "      <th>FG</th>\n",
       "      <th>FGA</th>\n",
       "      <th>FG%</th>\n",
       "      <th>3P</th>\n",
       "      <th>3PA</th>\n",
       "      <th>...</th>\n",
       "      <th>WS</th>\n",
       "      <th>WS/48</th>\n",
       "      <th>OBPM</th>\n",
       "      <th>DBPM</th>\n",
       "      <th>BPM</th>\n",
       "      <th>VORP</th>\n",
       "      <th>First</th>\n",
       "      <th>Share</th>\n",
       "      <th>Status</th>\n",
       "      <th>Season</th>\n",
       "    </tr>\n",
       "  </thead>\n",
       "  <tbody>\n",
       "    <tr>\n",
       "      <th>0</th>\n",
       "      <td>Kareem Abdul-Jabbar</td>\n",
       "      <td>C</td>\n",
       "      <td>33</td>\n",
       "      <td>80</td>\n",
       "      <td>2976</td>\n",
       "      <td>836</td>\n",
       "      <td>1457</td>\n",
       "      <td>0.574</td>\n",
       "      <td>0</td>\n",
       "      <td>1</td>\n",
       "      <td>...</td>\n",
       "      <td>14.3</td>\n",
       "      <td>0.230</td>\n",
       "      <td>4.7</td>\n",
       "      <td>1.4</td>\n",
       "      <td>6.1</td>\n",
       "      <td>6.1</td>\n",
       "      <td>8</td>\n",
       "      <td>0.414</td>\n",
       "      <td>Candidate</td>\n",
       "      <td>1981</td>\n",
       "    </tr>\n",
       "    <tr>\n",
       "      <th>1</th>\n",
       "      <td>Tom Abernethy</td>\n",
       "      <td>SF</td>\n",
       "      <td>26</td>\n",
       "      <td>39</td>\n",
       "      <td>298</td>\n",
       "      <td>25</td>\n",
       "      <td>59</td>\n",
       "      <td>0.424</td>\n",
       "      <td>0</td>\n",
       "      <td>1</td>\n",
       "      <td>...</td>\n",
       "      <td>0.4</td>\n",
       "      <td>0.062</td>\n",
       "      <td>-2.2</td>\n",
       "      <td>-0.4</td>\n",
       "      <td>-2.6</td>\n",
       "      <td>0.0</td>\n",
       "      <td>0</td>\n",
       "      <td>0.000</td>\n",
       "      <td>OOR</td>\n",
       "      <td>1981</td>\n",
       "    </tr>\n",
       "    <tr>\n",
       "      <th>2</th>\n",
       "      <td>Alvan Adams</td>\n",
       "      <td>C</td>\n",
       "      <td>26</td>\n",
       "      <td>75</td>\n",
       "      <td>2054</td>\n",
       "      <td>458</td>\n",
       "      <td>870</td>\n",
       "      <td>0.526</td>\n",
       "      <td>0</td>\n",
       "      <td>0</td>\n",
       "      <td>...</td>\n",
       "      <td>7.7</td>\n",
       "      <td>0.180</td>\n",
       "      <td>2.5</td>\n",
       "      <td>2.6</td>\n",
       "      <td>5.1</td>\n",
       "      <td>3.7</td>\n",
       "      <td>0</td>\n",
       "      <td>0.000</td>\n",
       "      <td>OOR</td>\n",
       "      <td>1981</td>\n",
       "    </tr>\n",
       "    <tr>\n",
       "      <th>3</th>\n",
       "      <td>Darrell Allums</td>\n",
       "      <td>PF</td>\n",
       "      <td>22</td>\n",
       "      <td>22</td>\n",
       "      <td>276</td>\n",
       "      <td>23</td>\n",
       "      <td>67</td>\n",
       "      <td>0.343</td>\n",
       "      <td>0</td>\n",
       "      <td>1</td>\n",
       "      <td>...</td>\n",
       "      <td>-0.3</td>\n",
       "      <td>-0.054</td>\n",
       "      <td>-5.5</td>\n",
       "      <td>-0.1</td>\n",
       "      <td>-5.6</td>\n",
       "      <td>-0.3</td>\n",
       "      <td>0</td>\n",
       "      <td>0.000</td>\n",
       "      <td>OOR</td>\n",
       "      <td>1981</td>\n",
       "    </tr>\n",
       "    <tr>\n",
       "      <th>4</th>\n",
       "      <td>Tiny Archibald</td>\n",
       "      <td>PG</td>\n",
       "      <td>32</td>\n",
       "      <td>80</td>\n",
       "      <td>2820</td>\n",
       "      <td>382</td>\n",
       "      <td>766</td>\n",
       "      <td>0.499</td>\n",
       "      <td>0</td>\n",
       "      <td>9</td>\n",
       "      <td>...</td>\n",
       "      <td>6.9</td>\n",
       "      <td>0.118</td>\n",
       "      <td>0.9</td>\n",
       "      <td>-1.0</td>\n",
       "      <td>-0.1</td>\n",
       "      <td>1.4</td>\n",
       "      <td>0</td>\n",
       "      <td>0.046</td>\n",
       "      <td>Candidate</td>\n",
       "      <td>1981</td>\n",
       "    </tr>\n",
       "    <tr>\n",
       "      <th>...</th>\n",
       "      <td>...</td>\n",
       "      <td>...</td>\n",
       "      <td>...</td>\n",
       "      <td>...</td>\n",
       "      <td>...</td>\n",
       "      <td>...</td>\n",
       "      <td>...</td>\n",
       "      <td>...</td>\n",
       "      <td>...</td>\n",
       "      <td>...</td>\n",
       "      <td>...</td>\n",
       "      <td>...</td>\n",
       "      <td>...</td>\n",
       "      <td>...</td>\n",
       "      <td>...</td>\n",
       "      <td>...</td>\n",
       "      <td>...</td>\n",
       "      <td>...</td>\n",
       "      <td>...</td>\n",
       "      <td>...</td>\n",
       "      <td>...</td>\n",
       "    </tr>\n",
       "    <tr>\n",
       "      <th>524</th>\n",
       "      <td>Trae Young</td>\n",
       "      <td>PG</td>\n",
       "      <td>21</td>\n",
       "      <td>60</td>\n",
       "      <td>2120</td>\n",
       "      <td>546</td>\n",
       "      <td>1249</td>\n",
       "      <td>0.437</td>\n",
       "      <td>205</td>\n",
       "      <td>568</td>\n",
       "      <td>...</td>\n",
       "      <td>5.9</td>\n",
       "      <td>0.133</td>\n",
       "      <td>6.2</td>\n",
       "      <td>-2.3</td>\n",
       "      <td>3.9</td>\n",
       "      <td>3.1</td>\n",
       "      <td>0</td>\n",
       "      <td>0.000</td>\n",
       "      <td>OOR</td>\n",
       "      <td>2020</td>\n",
       "    </tr>\n",
       "    <tr>\n",
       "      <th>525</th>\n",
       "      <td>Cody Zeller</td>\n",
       "      <td>C</td>\n",
       "      <td>27</td>\n",
       "      <td>58</td>\n",
       "      <td>1341</td>\n",
       "      <td>251</td>\n",
       "      <td>479</td>\n",
       "      <td>0.524</td>\n",
       "      <td>18</td>\n",
       "      <td>75</td>\n",
       "      <td>...</td>\n",
       "      <td>3.6</td>\n",
       "      <td>0.129</td>\n",
       "      <td>0.2</td>\n",
       "      <td>-0.8</td>\n",
       "      <td>-0.6</td>\n",
       "      <td>0.5</td>\n",
       "      <td>0</td>\n",
       "      <td>0.000</td>\n",
       "      <td>OOR</td>\n",
       "      <td>2020</td>\n",
       "    </tr>\n",
       "    <tr>\n",
       "      <th>526</th>\n",
       "      <td>Tyler Zeller</td>\n",
       "      <td>C</td>\n",
       "      <td>30</td>\n",
       "      <td>2</td>\n",
       "      <td>4</td>\n",
       "      <td>1</td>\n",
       "      <td>4</td>\n",
       "      <td>0.250</td>\n",
       "      <td>0</td>\n",
       "      <td>0</td>\n",
       "      <td>...</td>\n",
       "      <td>0.0</td>\n",
       "      <td>-0.075</td>\n",
       "      <td>-0.3</td>\n",
       "      <td>-22.1</td>\n",
       "      <td>-22.4</td>\n",
       "      <td>0.0</td>\n",
       "      <td>0</td>\n",
       "      <td>0.000</td>\n",
       "      <td>OOR</td>\n",
       "      <td>2020</td>\n",
       "    </tr>\n",
       "    <tr>\n",
       "      <th>527</th>\n",
       "      <td>Ante Žižić</td>\n",
       "      <td>C</td>\n",
       "      <td>23</td>\n",
       "      <td>22</td>\n",
       "      <td>221</td>\n",
       "      <td>41</td>\n",
       "      <td>72</td>\n",
       "      <td>0.569</td>\n",
       "      <td>0</td>\n",
       "      <td>0</td>\n",
       "      <td>...</td>\n",
       "      <td>0.5</td>\n",
       "      <td>0.106</td>\n",
       "      <td>-1.7</td>\n",
       "      <td>-1.5</td>\n",
       "      <td>-3.2</td>\n",
       "      <td>-0.1</td>\n",
       "      <td>0</td>\n",
       "      <td>0.000</td>\n",
       "      <td>OOR</td>\n",
       "      <td>2020</td>\n",
       "    </tr>\n",
       "    <tr>\n",
       "      <th>528</th>\n",
       "      <td>Ivica Zubac</td>\n",
       "      <td>C</td>\n",
       "      <td>22</td>\n",
       "      <td>72</td>\n",
       "      <td>1326</td>\n",
       "      <td>236</td>\n",
       "      <td>385</td>\n",
       "      <td>0.613</td>\n",
       "      <td>0</td>\n",
       "      <td>2</td>\n",
       "      <td>...</td>\n",
       "      <td>6.6</td>\n",
       "      <td>0.241</td>\n",
       "      <td>1.9</td>\n",
       "      <td>0.8</td>\n",
       "      <td>2.8</td>\n",
       "      <td>1.6</td>\n",
       "      <td>0</td>\n",
       "      <td>0.000</td>\n",
       "      <td>OOR</td>\n",
       "      <td>2020</td>\n",
       "    </tr>\n",
       "  </tbody>\n",
       "</table>\n",
       "<p>16852 rows × 51 columns</p>\n",
       "</div>"
      ],
      "text/plain": [
       "                  Player Pos  Age   G    MP   FG   FGA    FG%   3P  3PA  ...  \\\n",
       "0    Kareem Abdul-Jabbar   C   33  80  2976  836  1457  0.574    0    1  ...   \n",
       "1          Tom Abernethy  SF   26  39   298   25    59  0.424    0    1  ...   \n",
       "2            Alvan Adams   C   26  75  2054  458   870  0.526    0    0  ...   \n",
       "3         Darrell Allums  PF   22  22   276   23    67  0.343    0    1  ...   \n",
       "4         Tiny Archibald  PG   32  80  2820  382   766  0.499    0    9  ...   \n",
       "..                   ...  ..  ...  ..   ...  ...   ...    ...  ...  ...  ...   \n",
       "524           Trae Young  PG   21  60  2120  546  1249  0.437  205  568  ...   \n",
       "525          Cody Zeller   C   27  58  1341  251   479  0.524   18   75  ...   \n",
       "526         Tyler Zeller   C   30   2     4    1     4  0.250    0    0  ...   \n",
       "527           Ante Žižić   C   23  22   221   41    72  0.569    0    0  ...   \n",
       "528          Ivica Zubac   C   22  72  1326  236   385  0.613    0    2  ...   \n",
       "\n",
       "       WS  WS/48  OBPM  DBPM   BPM  VORP  First  Share     Status  Season  \n",
       "0    14.3  0.230   4.7   1.4   6.1   6.1      8  0.414  Candidate    1981  \n",
       "1     0.4  0.062  -2.2  -0.4  -2.6   0.0      0  0.000        OOR    1981  \n",
       "2     7.7  0.180   2.5   2.6   5.1   3.7      0  0.000        OOR    1981  \n",
       "3    -0.3 -0.054  -5.5  -0.1  -5.6  -0.3      0  0.000        OOR    1981  \n",
       "4     6.9  0.118   0.9  -1.0  -0.1   1.4      0  0.046  Candidate    1981  \n",
       "..    ...    ...   ...   ...   ...   ...    ...    ...        ...     ...  \n",
       "524   5.9  0.133   6.2  -2.3   3.9   3.1      0  0.000        OOR    2020  \n",
       "525   3.6  0.129   0.2  -0.8  -0.6   0.5      0  0.000        OOR    2020  \n",
       "526   0.0 -0.075  -0.3 -22.1 -22.4   0.0      0  0.000        OOR    2020  \n",
       "527   0.5  0.106  -1.7  -1.5  -3.2  -0.1      0  0.000        OOR    2020  \n",
       "528   6.6  0.241   1.9   0.8   2.8   1.6      0  0.000        OOR    2020  \n",
       "\n",
       "[16852 rows x 51 columns]"
      ]
     },
     "metadata": {},
     "output_type": "display_data"
    },
    {
     "name": "stdout",
     "output_type": "stream",
     "text": [
      "<class 'pandas.core.frame.DataFrame'>\n",
      "Int64Index: 16852 entries, 0 to 528\n",
      "Data columns (total 51 columns):\n",
      " #   Column  Non-Null Count  Dtype  \n",
      "---  ------  --------------  -----  \n",
      " 0   Player  16852 non-null  object \n",
      " 1   Pos     16852 non-null  object \n",
      " 2   Age     16852 non-null  int64  \n",
      " 3   G       16852 non-null  int64  \n",
      " 4   MP      16852 non-null  int64  \n",
      " 5   FG      16852 non-null  int64  \n",
      " 6   FGA     16852 non-null  int64  \n",
      " 7   FG%     16852 non-null  float64\n",
      " 8   3P      16852 non-null  int64  \n",
      " 9   3PA     16852 non-null  int64  \n",
      " 10  3P%     16852 non-null  float64\n",
      " 11  2P      16852 non-null  int64  \n",
      " 12  2PA     16852 non-null  int64  \n",
      " 13  2P%     16852 non-null  float64\n",
      " 14  eFG%    16852 non-null  float64\n",
      " 15  FT      16852 non-null  int64  \n",
      " 16  FTA     16852 non-null  int64  \n",
      " 17  FT%     16852 non-null  float64\n",
      " 18  ORB     16852 non-null  int64  \n",
      " 19  DRB     16852 non-null  int64  \n",
      " 20  TRB     16852 non-null  int64  \n",
      " 21  AST     16852 non-null  int64  \n",
      " 22  STL     16852 non-null  int64  \n",
      " 23  BLK     16852 non-null  int64  \n",
      " 24  TOV     16852 non-null  int64  \n",
      " 25  PF      16852 non-null  int64  \n",
      " 26  PTS     16852 non-null  int64  \n",
      " 27  PER     16852 non-null  float64\n",
      " 28  TS%     16852 non-null  float64\n",
      " 29  3PAr    16852 non-null  float64\n",
      " 30  FTr     16852 non-null  float64\n",
      " 31  ORB%    16852 non-null  float64\n",
      " 32  DRB%    16852 non-null  float64\n",
      " 33  TRB%    16852 non-null  float64\n",
      " 34  AST%    16852 non-null  float64\n",
      " 35  STL%    16852 non-null  float64\n",
      " 36  BLK%    16852 non-null  float64\n",
      " 37  TOV%    16852 non-null  float64\n",
      " 38  USG%    16852 non-null  float64\n",
      " 39  OWS     16852 non-null  float64\n",
      " 40  DWS     16852 non-null  float64\n",
      " 41  WS      16852 non-null  float64\n",
      " 42  WS/48   16852 non-null  float64\n",
      " 43  OBPM    16852 non-null  float64\n",
      " 44  DBPM    16852 non-null  float64\n",
      " 45  BPM     16852 non-null  float64\n",
      " 46  VORP    16852 non-null  float64\n",
      " 47  First   16852 non-null  int64  \n",
      " 48  Share   16852 non-null  float64\n",
      " 49  Status  16852 non-null  object \n",
      " 50  Season  16852 non-null  int64  \n",
      "dtypes: float64(26), int64(22), object(3)\n",
      "memory usage: 6.7+ MB\n"
     ]
    },
    {
     "data": {
      "text/plain": [
       "None"
      ]
     },
     "metadata": {},
     "output_type": "display_data"
    }
   ],
   "source": [
    "nba_dataset = pd.DataFrame()\n",
    "\n",
    "for season in np.arange(1981,2021,1):\n",
    "    df = pd.read_csv(f'./data/{season}_std.csv', low_memory=False)    \n",
    "    nba_dataset = nba_dataset.append(df)\n",
    "\n",
    "display(nba_dataset)\n",
    "display(nba_dataset.info())"
   ]
  },
  {
   "cell_type": "markdown",
   "id": "random-suicide",
   "metadata": {},
   "source": [
    "Way too many features, we need to remove some of them."
   ]
  },
  {
   "cell_type": "markdown",
   "id": "elementary-bracelet",
   "metadata": {},
   "source": [
    "## Feature Removing"
   ]
  },
  {
   "cell_type": "code",
   "execution_count": 3,
   "id": "approximate-integrity",
   "metadata": {},
   "outputs": [
    {
     "name": "stdout",
     "output_type": "stream",
     "text": [
      "Removing 16 features.\n"
     ]
    }
   ],
   "source": [
    "cols = ['G','MP','FG','FG%','3P','2P','FT','TRB','DRB%','ORB%','OWS','DWS','WS/48','OBPM','DBPM','First']\n",
    "print(f\"Removing {len(cols)} features.\")\n",
    "nba_dataset = nba_dataset.drop(columns=cols)"
   ]
  },
  {
   "cell_type": "markdown",
   "id": "gorgeous-printing",
   "metadata": {},
   "source": [
    "## Feature Analysis"
   ]
  },
  {
   "cell_type": "code",
   "execution_count": 4,
   "id": "printable-hopkins",
   "metadata": {},
   "outputs": [
    {
     "data": {
      "text/plain": [
       "<AxesSubplot:>"
      ]
     },
     "execution_count": 4,
     "metadata": {},
     "output_type": "execute_result"
    },
    {
     "name": "stdout",
     "output_type": "stream",
     "text": [
      "Error in callback <function flush_figures at 0x7f7a2ba52820> (for post_execute):\n"
     ]
    },
    {
     "ename": "KeyboardInterrupt",
     "evalue": "",
     "output_type": "error",
     "traceback": [
      "\u001b[0;31m---------------------------------------------------------------------------\u001b[0m",
      "\u001b[0;31mKeyboardInterrupt\u001b[0m                         Traceback (most recent call last)",
      "\u001b[0;32m~/.local/lib/python3.8/site-packages/ipykernel/pylab/backend_inline.py\u001b[0m in \u001b[0;36mflush_figures\u001b[0;34m()\u001b[0m\n\u001b[1;32m    117\u001b[0m         \u001b[0;31m# ignore the tracking, just draw and close all figures\u001b[0m\u001b[0;34m\u001b[0m\u001b[0;34m\u001b[0m\u001b[0;34m\u001b[0m\u001b[0m\n\u001b[1;32m    118\u001b[0m         \u001b[0;32mtry\u001b[0m\u001b[0;34m:\u001b[0m\u001b[0;34m\u001b[0m\u001b[0;34m\u001b[0m\u001b[0m\n\u001b[0;32m--> 119\u001b[0;31m             \u001b[0;32mreturn\u001b[0m \u001b[0mshow\u001b[0m\u001b[0;34m(\u001b[0m\u001b[0;32mTrue\u001b[0m\u001b[0;34m)\u001b[0m\u001b[0;34m\u001b[0m\u001b[0;34m\u001b[0m\u001b[0m\n\u001b[0m\u001b[1;32m    120\u001b[0m         \u001b[0;32mexcept\u001b[0m \u001b[0mException\u001b[0m \u001b[0;32mas\u001b[0m \u001b[0me\u001b[0m\u001b[0;34m:\u001b[0m\u001b[0;34m\u001b[0m\u001b[0;34m\u001b[0m\u001b[0m\n\u001b[1;32m    121\u001b[0m             \u001b[0;31m# safely show traceback if in IPython, else raise\u001b[0m\u001b[0;34m\u001b[0m\u001b[0;34m\u001b[0m\u001b[0;34m\u001b[0m\u001b[0m\n",
      "\u001b[0;32m~/.local/lib/python3.8/site-packages/ipykernel/pylab/backend_inline.py\u001b[0m in \u001b[0;36mshow\u001b[0;34m(close, block)\u001b[0m\n\u001b[1;32m     37\u001b[0m     \u001b[0;32mtry\u001b[0m\u001b[0;34m:\u001b[0m\u001b[0;34m\u001b[0m\u001b[0;34m\u001b[0m\u001b[0m\n\u001b[1;32m     38\u001b[0m         \u001b[0;32mfor\u001b[0m \u001b[0mfigure_manager\u001b[0m \u001b[0;32min\u001b[0m \u001b[0mGcf\u001b[0m\u001b[0;34m.\u001b[0m\u001b[0mget_all_fig_managers\u001b[0m\u001b[0;34m(\u001b[0m\u001b[0;34m)\u001b[0m\u001b[0;34m:\u001b[0m\u001b[0;34m\u001b[0m\u001b[0;34m\u001b[0m\u001b[0m\n\u001b[0;32m---> 39\u001b[0;31m             display(\n\u001b[0m\u001b[1;32m     40\u001b[0m                 \u001b[0mfigure_manager\u001b[0m\u001b[0;34m.\u001b[0m\u001b[0mcanvas\u001b[0m\u001b[0;34m.\u001b[0m\u001b[0mfigure\u001b[0m\u001b[0;34m,\u001b[0m\u001b[0;34m\u001b[0m\u001b[0;34m\u001b[0m\u001b[0m\n\u001b[1;32m     41\u001b[0m                 \u001b[0mmetadata\u001b[0m\u001b[0;34m=\u001b[0m\u001b[0m_fetch_figure_metadata\u001b[0m\u001b[0;34m(\u001b[0m\u001b[0mfigure_manager\u001b[0m\u001b[0;34m.\u001b[0m\u001b[0mcanvas\u001b[0m\u001b[0;34m.\u001b[0m\u001b[0mfigure\u001b[0m\u001b[0;34m)\u001b[0m\u001b[0;34m\u001b[0m\u001b[0;34m\u001b[0m\u001b[0m\n",
      "\u001b[0;32m~/.local/lib/python3.8/site-packages/IPython/core/display.py\u001b[0m in \u001b[0;36mdisplay\u001b[0;34m(include, exclude, metadata, transient, display_id, *objs, **kwargs)\u001b[0m\n\u001b[1;32m    311\u001b[0m             \u001b[0mpublish_display_data\u001b[0m\u001b[0;34m(\u001b[0m\u001b[0mdata\u001b[0m\u001b[0;34m=\u001b[0m\u001b[0mobj\u001b[0m\u001b[0;34m,\u001b[0m \u001b[0mmetadata\u001b[0m\u001b[0;34m=\u001b[0m\u001b[0mmetadata\u001b[0m\u001b[0;34m,\u001b[0m \u001b[0;34m**\u001b[0m\u001b[0mkwargs\u001b[0m\u001b[0;34m)\u001b[0m\u001b[0;34m\u001b[0m\u001b[0;34m\u001b[0m\u001b[0m\n\u001b[1;32m    312\u001b[0m         \u001b[0;32melse\u001b[0m\u001b[0;34m:\u001b[0m\u001b[0;34m\u001b[0m\u001b[0;34m\u001b[0m\u001b[0m\n\u001b[0;32m--> 313\u001b[0;31m             \u001b[0mformat_dict\u001b[0m\u001b[0;34m,\u001b[0m \u001b[0mmd_dict\u001b[0m \u001b[0;34m=\u001b[0m \u001b[0mformat\u001b[0m\u001b[0;34m(\u001b[0m\u001b[0mobj\u001b[0m\u001b[0;34m,\u001b[0m \u001b[0minclude\u001b[0m\u001b[0;34m=\u001b[0m\u001b[0minclude\u001b[0m\u001b[0;34m,\u001b[0m \u001b[0mexclude\u001b[0m\u001b[0;34m=\u001b[0m\u001b[0mexclude\u001b[0m\u001b[0;34m)\u001b[0m\u001b[0;34m\u001b[0m\u001b[0;34m\u001b[0m\u001b[0m\n\u001b[0m\u001b[1;32m    314\u001b[0m             \u001b[0;32mif\u001b[0m \u001b[0;32mnot\u001b[0m \u001b[0mformat_dict\u001b[0m\u001b[0;34m:\u001b[0m\u001b[0;34m\u001b[0m\u001b[0;34m\u001b[0m\u001b[0m\n\u001b[1;32m    315\u001b[0m                 \u001b[0;31m# nothing to display (e.g. _ipython_display_ took over)\u001b[0m\u001b[0;34m\u001b[0m\u001b[0;34m\u001b[0m\u001b[0;34m\u001b[0m\u001b[0m\n",
      "\u001b[0;32m~/.local/lib/python3.8/site-packages/IPython/core/formatters.py\u001b[0m in \u001b[0;36mformat\u001b[0;34m(self, obj, include, exclude)\u001b[0m\n\u001b[1;32m    178\u001b[0m             \u001b[0mmd\u001b[0m \u001b[0;34m=\u001b[0m \u001b[0;32mNone\u001b[0m\u001b[0;34m\u001b[0m\u001b[0;34m\u001b[0m\u001b[0m\n\u001b[1;32m    179\u001b[0m             \u001b[0;32mtry\u001b[0m\u001b[0;34m:\u001b[0m\u001b[0;34m\u001b[0m\u001b[0;34m\u001b[0m\u001b[0m\n\u001b[0;32m--> 180\u001b[0;31m                 \u001b[0mdata\u001b[0m \u001b[0;34m=\u001b[0m \u001b[0mformatter\u001b[0m\u001b[0;34m(\u001b[0m\u001b[0mobj\u001b[0m\u001b[0;34m)\u001b[0m\u001b[0;34m\u001b[0m\u001b[0;34m\u001b[0m\u001b[0m\n\u001b[0m\u001b[1;32m    181\u001b[0m             \u001b[0;32mexcept\u001b[0m\u001b[0;34m:\u001b[0m\u001b[0;34m\u001b[0m\u001b[0;34m\u001b[0m\u001b[0m\n\u001b[1;32m    182\u001b[0m                 \u001b[0;31m# FIXME: log the exception\u001b[0m\u001b[0;34m\u001b[0m\u001b[0;34m\u001b[0m\u001b[0;34m\u001b[0m\u001b[0m\n",
      "\u001b[0;32m<decorator-gen-2>\u001b[0m in \u001b[0;36m__call__\u001b[0;34m(self, obj)\u001b[0m\n",
      "\u001b[0;32m~/.local/lib/python3.8/site-packages/IPython/core/formatters.py\u001b[0m in \u001b[0;36mcatch_format_error\u001b[0;34m(method, self, *args, **kwargs)\u001b[0m\n\u001b[1;32m    222\u001b[0m     \u001b[0;34m\"\"\"show traceback on failed format call\"\"\"\u001b[0m\u001b[0;34m\u001b[0m\u001b[0;34m\u001b[0m\u001b[0m\n\u001b[1;32m    223\u001b[0m     \u001b[0;32mtry\u001b[0m\u001b[0;34m:\u001b[0m\u001b[0;34m\u001b[0m\u001b[0;34m\u001b[0m\u001b[0m\n\u001b[0;32m--> 224\u001b[0;31m         \u001b[0mr\u001b[0m \u001b[0;34m=\u001b[0m \u001b[0mmethod\u001b[0m\u001b[0;34m(\u001b[0m\u001b[0mself\u001b[0m\u001b[0;34m,\u001b[0m \u001b[0;34m*\u001b[0m\u001b[0margs\u001b[0m\u001b[0;34m,\u001b[0m \u001b[0;34m**\u001b[0m\u001b[0mkwargs\u001b[0m\u001b[0;34m)\u001b[0m\u001b[0;34m\u001b[0m\u001b[0;34m\u001b[0m\u001b[0m\n\u001b[0m\u001b[1;32m    225\u001b[0m     \u001b[0;32mexcept\u001b[0m \u001b[0mNotImplementedError\u001b[0m\u001b[0;34m:\u001b[0m\u001b[0;34m\u001b[0m\u001b[0;34m\u001b[0m\u001b[0m\n\u001b[1;32m    226\u001b[0m         \u001b[0;31m# don't warn on NotImplementedErrors\u001b[0m\u001b[0;34m\u001b[0m\u001b[0;34m\u001b[0m\u001b[0;34m\u001b[0m\u001b[0m\n",
      "\u001b[0;32m~/.local/lib/python3.8/site-packages/IPython/core/formatters.py\u001b[0m in \u001b[0;36m__call__\u001b[0;34m(self, obj)\u001b[0m\n\u001b[1;32m    339\u001b[0m                 \u001b[0;32mpass\u001b[0m\u001b[0;34m\u001b[0m\u001b[0;34m\u001b[0m\u001b[0m\n\u001b[1;32m    340\u001b[0m             \u001b[0;32melse\u001b[0m\u001b[0;34m:\u001b[0m\u001b[0;34m\u001b[0m\u001b[0;34m\u001b[0m\u001b[0m\n\u001b[0;32m--> 341\u001b[0;31m                 \u001b[0;32mreturn\u001b[0m \u001b[0mprinter\u001b[0m\u001b[0;34m(\u001b[0m\u001b[0mobj\u001b[0m\u001b[0;34m)\u001b[0m\u001b[0;34m\u001b[0m\u001b[0;34m\u001b[0m\u001b[0m\n\u001b[0m\u001b[1;32m    342\u001b[0m             \u001b[0;31m# Finally look for special method names\u001b[0m\u001b[0;34m\u001b[0m\u001b[0;34m\u001b[0m\u001b[0;34m\u001b[0m\u001b[0m\n\u001b[1;32m    343\u001b[0m             \u001b[0mmethod\u001b[0m \u001b[0;34m=\u001b[0m \u001b[0mget_real_method\u001b[0m\u001b[0;34m(\u001b[0m\u001b[0mobj\u001b[0m\u001b[0;34m,\u001b[0m \u001b[0mself\u001b[0m\u001b[0;34m.\u001b[0m\u001b[0mprint_method\u001b[0m\u001b[0;34m)\u001b[0m\u001b[0;34m\u001b[0m\u001b[0;34m\u001b[0m\u001b[0m\n",
      "\u001b[0;32m~/.local/lib/python3.8/site-packages/IPython/core/pylabtools.py\u001b[0m in \u001b[0;36m<lambda>\u001b[0;34m(fig)\u001b[0m\n\u001b[1;32m    246\u001b[0m \u001b[0;34m\u001b[0m\u001b[0m\n\u001b[1;32m    247\u001b[0m     \u001b[0;32mif\u001b[0m \u001b[0;34m'png'\u001b[0m \u001b[0;32min\u001b[0m \u001b[0mformats\u001b[0m\u001b[0;34m:\u001b[0m\u001b[0;34m\u001b[0m\u001b[0;34m\u001b[0m\u001b[0m\n\u001b[0;32m--> 248\u001b[0;31m         \u001b[0mpng_formatter\u001b[0m\u001b[0;34m.\u001b[0m\u001b[0mfor_type\u001b[0m\u001b[0;34m(\u001b[0m\u001b[0mFigure\u001b[0m\u001b[0;34m,\u001b[0m \u001b[0;32mlambda\u001b[0m \u001b[0mfig\u001b[0m\u001b[0;34m:\u001b[0m \u001b[0mprint_figure\u001b[0m\u001b[0;34m(\u001b[0m\u001b[0mfig\u001b[0m\u001b[0;34m,\u001b[0m \u001b[0;34m'png'\u001b[0m\u001b[0;34m,\u001b[0m \u001b[0;34m**\u001b[0m\u001b[0mkwargs\u001b[0m\u001b[0;34m)\u001b[0m\u001b[0;34m)\u001b[0m\u001b[0;34m\u001b[0m\u001b[0;34m\u001b[0m\u001b[0m\n\u001b[0m\u001b[1;32m    249\u001b[0m     \u001b[0;32mif\u001b[0m \u001b[0;34m'retina'\u001b[0m \u001b[0;32min\u001b[0m \u001b[0mformats\u001b[0m \u001b[0;32mor\u001b[0m \u001b[0;34m'png2x'\u001b[0m \u001b[0;32min\u001b[0m \u001b[0mformats\u001b[0m\u001b[0;34m:\u001b[0m\u001b[0;34m\u001b[0m\u001b[0;34m\u001b[0m\u001b[0m\n\u001b[1;32m    250\u001b[0m         \u001b[0mpng_formatter\u001b[0m\u001b[0;34m.\u001b[0m\u001b[0mfor_type\u001b[0m\u001b[0;34m(\u001b[0m\u001b[0mFigure\u001b[0m\u001b[0;34m,\u001b[0m \u001b[0;32mlambda\u001b[0m \u001b[0mfig\u001b[0m\u001b[0;34m:\u001b[0m \u001b[0mretina_figure\u001b[0m\u001b[0;34m(\u001b[0m\u001b[0mfig\u001b[0m\u001b[0;34m,\u001b[0m \u001b[0;34m**\u001b[0m\u001b[0mkwargs\u001b[0m\u001b[0;34m)\u001b[0m\u001b[0;34m)\u001b[0m\u001b[0;34m\u001b[0m\u001b[0;34m\u001b[0m\u001b[0m\n",
      "\u001b[0;32m~/.local/lib/python3.8/site-packages/IPython/core/pylabtools.py\u001b[0m in \u001b[0;36mprint_figure\u001b[0;34m(fig, fmt, bbox_inches, **kwargs)\u001b[0m\n\u001b[1;32m    130\u001b[0m         \u001b[0mFigureCanvasBase\u001b[0m\u001b[0;34m(\u001b[0m\u001b[0mfig\u001b[0m\u001b[0;34m)\u001b[0m\u001b[0;34m\u001b[0m\u001b[0;34m\u001b[0m\u001b[0m\n\u001b[1;32m    131\u001b[0m \u001b[0;34m\u001b[0m\u001b[0m\n\u001b[0;32m--> 132\u001b[0;31m     \u001b[0mfig\u001b[0m\u001b[0;34m.\u001b[0m\u001b[0mcanvas\u001b[0m\u001b[0;34m.\u001b[0m\u001b[0mprint_figure\u001b[0m\u001b[0;34m(\u001b[0m\u001b[0mbytes_io\u001b[0m\u001b[0;34m,\u001b[0m \u001b[0;34m**\u001b[0m\u001b[0mkw\u001b[0m\u001b[0;34m)\u001b[0m\u001b[0;34m\u001b[0m\u001b[0;34m\u001b[0m\u001b[0m\n\u001b[0m\u001b[1;32m    133\u001b[0m     \u001b[0mdata\u001b[0m \u001b[0;34m=\u001b[0m \u001b[0mbytes_io\u001b[0m\u001b[0;34m.\u001b[0m\u001b[0mgetvalue\u001b[0m\u001b[0;34m(\u001b[0m\u001b[0;34m)\u001b[0m\u001b[0;34m\u001b[0m\u001b[0;34m\u001b[0m\u001b[0m\n\u001b[1;32m    134\u001b[0m     \u001b[0;32mif\u001b[0m \u001b[0mfmt\u001b[0m \u001b[0;34m==\u001b[0m \u001b[0;34m'svg'\u001b[0m\u001b[0;34m:\u001b[0m\u001b[0;34m\u001b[0m\u001b[0;34m\u001b[0m\u001b[0m\n",
      "\u001b[0;32m~/.local/lib/python3.8/site-packages/matplotlib/backend_bases.py\u001b[0m in \u001b[0;36mprint_figure\u001b[0;34m(self, filename, dpi, facecolor, edgecolor, orientation, format, bbox_inches, pad_inches, bbox_extra_artists, backend, **kwargs)\u001b[0m\n\u001b[1;32m   2208\u001b[0m \u001b[0;34m\u001b[0m\u001b[0m\n\u001b[1;32m   2209\u001b[0m             \u001b[0;32mtry\u001b[0m\u001b[0;34m:\u001b[0m\u001b[0;34m\u001b[0m\u001b[0;34m\u001b[0m\u001b[0m\n\u001b[0;32m-> 2210\u001b[0;31m                 result = print_method(\n\u001b[0m\u001b[1;32m   2211\u001b[0m                     \u001b[0mfilename\u001b[0m\u001b[0;34m,\u001b[0m\u001b[0;34m\u001b[0m\u001b[0;34m\u001b[0m\u001b[0m\n\u001b[1;32m   2212\u001b[0m                     \u001b[0mdpi\u001b[0m\u001b[0;34m=\u001b[0m\u001b[0mdpi\u001b[0m\u001b[0;34m,\u001b[0m\u001b[0;34m\u001b[0m\u001b[0;34m\u001b[0m\u001b[0m\n",
      "\u001b[0;32m~/.local/lib/python3.8/site-packages/matplotlib/backend_bases.py\u001b[0m in \u001b[0;36mwrapper\u001b[0;34m(*args, **kwargs)\u001b[0m\n\u001b[1;32m   1637\u001b[0m             \u001b[0mkwargs\u001b[0m\u001b[0;34m.\u001b[0m\u001b[0mpop\u001b[0m\u001b[0;34m(\u001b[0m\u001b[0marg\u001b[0m\u001b[0;34m)\u001b[0m\u001b[0;34m\u001b[0m\u001b[0;34m\u001b[0m\u001b[0m\n\u001b[1;32m   1638\u001b[0m \u001b[0;34m\u001b[0m\u001b[0m\n\u001b[0;32m-> 1639\u001b[0;31m         \u001b[0;32mreturn\u001b[0m \u001b[0mfunc\u001b[0m\u001b[0;34m(\u001b[0m\u001b[0;34m*\u001b[0m\u001b[0margs\u001b[0m\u001b[0;34m,\u001b[0m \u001b[0;34m**\u001b[0m\u001b[0mkwargs\u001b[0m\u001b[0;34m)\u001b[0m\u001b[0;34m\u001b[0m\u001b[0;34m\u001b[0m\u001b[0m\n\u001b[0m\u001b[1;32m   1640\u001b[0m \u001b[0;34m\u001b[0m\u001b[0m\n\u001b[1;32m   1641\u001b[0m     \u001b[0;32mreturn\u001b[0m \u001b[0mwrapper\u001b[0m\u001b[0;34m\u001b[0m\u001b[0;34m\u001b[0m\u001b[0m\n",
      "\u001b[0;32m~/.local/lib/python3.8/site-packages/matplotlib/backends/backend_agg.py\u001b[0m in \u001b[0;36mprint_png\u001b[0;34m(self, filename_or_obj, metadata, pil_kwargs, *args)\u001b[0m\n\u001b[1;32m    507\u001b[0m             \u001b[0;34m*\u001b[0m\u001b[0mmetadata\u001b[0m\u001b[0;34m*\u001b[0m\u001b[0;34m,\u001b[0m \u001b[0mincluding\u001b[0m \u001b[0mthe\u001b[0m \u001b[0mdefault\u001b[0m \u001b[0;34m'Software'\u001b[0m \u001b[0mkey\u001b[0m\u001b[0;34m.\u001b[0m\u001b[0;34m\u001b[0m\u001b[0;34m\u001b[0m\u001b[0m\n\u001b[1;32m    508\u001b[0m         \"\"\"\n\u001b[0;32m--> 509\u001b[0;31m         \u001b[0mFigureCanvasAgg\u001b[0m\u001b[0;34m.\u001b[0m\u001b[0mdraw\u001b[0m\u001b[0;34m(\u001b[0m\u001b[0mself\u001b[0m\u001b[0;34m)\u001b[0m\u001b[0;34m\u001b[0m\u001b[0;34m\u001b[0m\u001b[0m\n\u001b[0m\u001b[1;32m    510\u001b[0m         mpl.image.imsave(\n\u001b[1;32m    511\u001b[0m             \u001b[0mfilename_or_obj\u001b[0m\u001b[0;34m,\u001b[0m \u001b[0mself\u001b[0m\u001b[0;34m.\u001b[0m\u001b[0mbuffer_rgba\u001b[0m\u001b[0;34m(\u001b[0m\u001b[0;34m)\u001b[0m\u001b[0;34m,\u001b[0m \u001b[0mformat\u001b[0m\u001b[0;34m=\u001b[0m\u001b[0;34m\"png\"\u001b[0m\u001b[0;34m,\u001b[0m \u001b[0morigin\u001b[0m\u001b[0;34m=\u001b[0m\u001b[0;34m\"upper\"\u001b[0m\u001b[0;34m,\u001b[0m\u001b[0;34m\u001b[0m\u001b[0;34m\u001b[0m\u001b[0m\n",
      "\u001b[0;32m~/.local/lib/python3.8/site-packages/matplotlib/backends/backend_agg.py\u001b[0m in \u001b[0;36mdraw\u001b[0;34m(self)\u001b[0m\n\u001b[1;32m    405\u001b[0m              (self.toolbar._wait_cursor_for_draw_cm() if self.toolbar\n\u001b[1;32m    406\u001b[0m               else nullcontext()):\n\u001b[0;32m--> 407\u001b[0;31m             \u001b[0mself\u001b[0m\u001b[0;34m.\u001b[0m\u001b[0mfigure\u001b[0m\u001b[0;34m.\u001b[0m\u001b[0mdraw\u001b[0m\u001b[0;34m(\u001b[0m\u001b[0mself\u001b[0m\u001b[0;34m.\u001b[0m\u001b[0mrenderer\u001b[0m\u001b[0;34m)\u001b[0m\u001b[0;34m\u001b[0m\u001b[0;34m\u001b[0m\u001b[0m\n\u001b[0m\u001b[1;32m    408\u001b[0m             \u001b[0;31m# A GUI class may be need to update a window using this draw, so\u001b[0m\u001b[0;34m\u001b[0m\u001b[0;34m\u001b[0m\u001b[0;34m\u001b[0m\u001b[0m\n\u001b[1;32m    409\u001b[0m             \u001b[0;31m# don't forget to call the superclass.\u001b[0m\u001b[0;34m\u001b[0m\u001b[0;34m\u001b[0m\u001b[0;34m\u001b[0m\u001b[0m\n",
      "\u001b[0;32m~/.local/lib/python3.8/site-packages/matplotlib/artist.py\u001b[0m in \u001b[0;36mdraw_wrapper\u001b[0;34m(artist, renderer, *args, **kwargs)\u001b[0m\n\u001b[1;32m     39\u001b[0m                 \u001b[0mrenderer\u001b[0m\u001b[0;34m.\u001b[0m\u001b[0mstart_filter\u001b[0m\u001b[0;34m(\u001b[0m\u001b[0;34m)\u001b[0m\u001b[0;34m\u001b[0m\u001b[0;34m\u001b[0m\u001b[0m\n\u001b[1;32m     40\u001b[0m \u001b[0;34m\u001b[0m\u001b[0m\n\u001b[0;32m---> 41\u001b[0;31m             \u001b[0;32mreturn\u001b[0m \u001b[0mdraw\u001b[0m\u001b[0;34m(\u001b[0m\u001b[0martist\u001b[0m\u001b[0;34m,\u001b[0m \u001b[0mrenderer\u001b[0m\u001b[0;34m,\u001b[0m \u001b[0;34m*\u001b[0m\u001b[0margs\u001b[0m\u001b[0;34m,\u001b[0m \u001b[0;34m**\u001b[0m\u001b[0mkwargs\u001b[0m\u001b[0;34m)\u001b[0m\u001b[0;34m\u001b[0m\u001b[0;34m\u001b[0m\u001b[0m\n\u001b[0m\u001b[1;32m     42\u001b[0m         \u001b[0;32mfinally\u001b[0m\u001b[0;34m:\u001b[0m\u001b[0;34m\u001b[0m\u001b[0;34m\u001b[0m\u001b[0m\n\u001b[1;32m     43\u001b[0m             \u001b[0;32mif\u001b[0m \u001b[0martist\u001b[0m\u001b[0;34m.\u001b[0m\u001b[0mget_agg_filter\u001b[0m\u001b[0;34m(\u001b[0m\u001b[0;34m)\u001b[0m \u001b[0;32mis\u001b[0m \u001b[0;32mnot\u001b[0m \u001b[0;32mNone\u001b[0m\u001b[0;34m:\u001b[0m\u001b[0;34m\u001b[0m\u001b[0;34m\u001b[0m\u001b[0m\n",
      "\u001b[0;32m~/.local/lib/python3.8/site-packages/matplotlib/figure.py\u001b[0m in \u001b[0;36mdraw\u001b[0;34m(self, renderer)\u001b[0m\n\u001b[1;32m   1861\u001b[0m \u001b[0;34m\u001b[0m\u001b[0m\n\u001b[1;32m   1862\u001b[0m             \u001b[0mself\u001b[0m\u001b[0;34m.\u001b[0m\u001b[0mpatch\u001b[0m\u001b[0;34m.\u001b[0m\u001b[0mdraw\u001b[0m\u001b[0;34m(\u001b[0m\u001b[0mrenderer\u001b[0m\u001b[0;34m)\u001b[0m\u001b[0;34m\u001b[0m\u001b[0;34m\u001b[0m\u001b[0m\n\u001b[0;32m-> 1863\u001b[0;31m             mimage._draw_list_compositing_images(\n\u001b[0m\u001b[1;32m   1864\u001b[0m                 renderer, self, artists, self.suppressComposite)\n\u001b[1;32m   1865\u001b[0m \u001b[0;34m\u001b[0m\u001b[0m\n",
      "\u001b[0;32m~/.local/lib/python3.8/site-packages/matplotlib/image.py\u001b[0m in \u001b[0;36m_draw_list_compositing_images\u001b[0;34m(renderer, parent, artists, suppress_composite)\u001b[0m\n\u001b[1;32m    129\u001b[0m     \u001b[0;32mif\u001b[0m \u001b[0mnot_composite\u001b[0m \u001b[0;32mor\u001b[0m \u001b[0;32mnot\u001b[0m \u001b[0mhas_images\u001b[0m\u001b[0;34m:\u001b[0m\u001b[0;34m\u001b[0m\u001b[0;34m\u001b[0m\u001b[0m\n\u001b[1;32m    130\u001b[0m         \u001b[0;32mfor\u001b[0m \u001b[0ma\u001b[0m \u001b[0;32min\u001b[0m \u001b[0martists\u001b[0m\u001b[0;34m:\u001b[0m\u001b[0;34m\u001b[0m\u001b[0;34m\u001b[0m\u001b[0m\n\u001b[0;32m--> 131\u001b[0;31m             \u001b[0ma\u001b[0m\u001b[0;34m.\u001b[0m\u001b[0mdraw\u001b[0m\u001b[0;34m(\u001b[0m\u001b[0mrenderer\u001b[0m\u001b[0;34m)\u001b[0m\u001b[0;34m\u001b[0m\u001b[0;34m\u001b[0m\u001b[0m\n\u001b[0m\u001b[1;32m    132\u001b[0m     \u001b[0;32melse\u001b[0m\u001b[0;34m:\u001b[0m\u001b[0;34m\u001b[0m\u001b[0;34m\u001b[0m\u001b[0m\n\u001b[1;32m    133\u001b[0m         \u001b[0;31m# Composite any adjacent images together\u001b[0m\u001b[0;34m\u001b[0m\u001b[0;34m\u001b[0m\u001b[0;34m\u001b[0m\u001b[0m\n",
      "\u001b[0;32m~/.local/lib/python3.8/site-packages/matplotlib/artist.py\u001b[0m in \u001b[0;36mdraw_wrapper\u001b[0;34m(artist, renderer, *args, **kwargs)\u001b[0m\n\u001b[1;32m     39\u001b[0m                 \u001b[0mrenderer\u001b[0m\u001b[0;34m.\u001b[0m\u001b[0mstart_filter\u001b[0m\u001b[0;34m(\u001b[0m\u001b[0;34m)\u001b[0m\u001b[0;34m\u001b[0m\u001b[0;34m\u001b[0m\u001b[0m\n\u001b[1;32m     40\u001b[0m \u001b[0;34m\u001b[0m\u001b[0m\n\u001b[0;32m---> 41\u001b[0;31m             \u001b[0;32mreturn\u001b[0m \u001b[0mdraw\u001b[0m\u001b[0;34m(\u001b[0m\u001b[0martist\u001b[0m\u001b[0;34m,\u001b[0m \u001b[0mrenderer\u001b[0m\u001b[0;34m,\u001b[0m \u001b[0;34m*\u001b[0m\u001b[0margs\u001b[0m\u001b[0;34m,\u001b[0m \u001b[0;34m**\u001b[0m\u001b[0mkwargs\u001b[0m\u001b[0;34m)\u001b[0m\u001b[0;34m\u001b[0m\u001b[0;34m\u001b[0m\u001b[0m\n\u001b[0m\u001b[1;32m     42\u001b[0m         \u001b[0;32mfinally\u001b[0m\u001b[0;34m:\u001b[0m\u001b[0;34m\u001b[0m\u001b[0;34m\u001b[0m\u001b[0m\n\u001b[1;32m     43\u001b[0m             \u001b[0;32mif\u001b[0m \u001b[0martist\u001b[0m\u001b[0;34m.\u001b[0m\u001b[0mget_agg_filter\u001b[0m\u001b[0;34m(\u001b[0m\u001b[0;34m)\u001b[0m \u001b[0;32mis\u001b[0m \u001b[0;32mnot\u001b[0m \u001b[0;32mNone\u001b[0m\u001b[0;34m:\u001b[0m\u001b[0;34m\u001b[0m\u001b[0;34m\u001b[0m\u001b[0m\n",
      "\u001b[0;32m~/.local/lib/python3.8/site-packages/matplotlib/cbook/deprecation.py\u001b[0m in \u001b[0;36mwrapper\u001b[0;34m(*inner_args, **inner_kwargs)\u001b[0m\n\u001b[1;32m    409\u001b[0m                          \u001b[0;32melse\u001b[0m \u001b[0mdeprecation_addendum\u001b[0m\u001b[0;34m,\u001b[0m\u001b[0;34m\u001b[0m\u001b[0;34m\u001b[0m\u001b[0m\n\u001b[1;32m    410\u001b[0m                 **kwargs)\n\u001b[0;32m--> 411\u001b[0;31m         \u001b[0;32mreturn\u001b[0m \u001b[0mfunc\u001b[0m\u001b[0;34m(\u001b[0m\u001b[0;34m*\u001b[0m\u001b[0minner_args\u001b[0m\u001b[0;34m,\u001b[0m \u001b[0;34m**\u001b[0m\u001b[0minner_kwargs\u001b[0m\u001b[0;34m)\u001b[0m\u001b[0;34m\u001b[0m\u001b[0;34m\u001b[0m\u001b[0m\n\u001b[0m\u001b[1;32m    412\u001b[0m \u001b[0;34m\u001b[0m\u001b[0m\n\u001b[1;32m    413\u001b[0m     \u001b[0;32mreturn\u001b[0m \u001b[0mwrapper\u001b[0m\u001b[0;34m\u001b[0m\u001b[0;34m\u001b[0m\u001b[0m\n",
      "\u001b[0;32m~/.local/lib/python3.8/site-packages/matplotlib/axes/_base.py\u001b[0m in \u001b[0;36mdraw\u001b[0;34m(self, renderer, inframe)\u001b[0m\n\u001b[1;32m   2745\u001b[0m             \u001b[0mrenderer\u001b[0m\u001b[0;34m.\u001b[0m\u001b[0mstop_rasterizing\u001b[0m\u001b[0;34m(\u001b[0m\u001b[0;34m)\u001b[0m\u001b[0;34m\u001b[0m\u001b[0;34m\u001b[0m\u001b[0m\n\u001b[1;32m   2746\u001b[0m \u001b[0;34m\u001b[0m\u001b[0m\n\u001b[0;32m-> 2747\u001b[0;31m         \u001b[0mmimage\u001b[0m\u001b[0;34m.\u001b[0m\u001b[0m_draw_list_compositing_images\u001b[0m\u001b[0;34m(\u001b[0m\u001b[0mrenderer\u001b[0m\u001b[0;34m,\u001b[0m \u001b[0mself\u001b[0m\u001b[0;34m,\u001b[0m \u001b[0martists\u001b[0m\u001b[0;34m)\u001b[0m\u001b[0;34m\u001b[0m\u001b[0;34m\u001b[0m\u001b[0m\n\u001b[0m\u001b[1;32m   2748\u001b[0m \u001b[0;34m\u001b[0m\u001b[0m\n\u001b[1;32m   2749\u001b[0m         \u001b[0mrenderer\u001b[0m\u001b[0;34m.\u001b[0m\u001b[0mclose_group\u001b[0m\u001b[0;34m(\u001b[0m\u001b[0;34m'axes'\u001b[0m\u001b[0;34m)\u001b[0m\u001b[0;34m\u001b[0m\u001b[0;34m\u001b[0m\u001b[0m\n",
      "\u001b[0;32m~/.local/lib/python3.8/site-packages/matplotlib/image.py\u001b[0m in \u001b[0;36m_draw_list_compositing_images\u001b[0;34m(renderer, parent, artists, suppress_composite)\u001b[0m\n\u001b[1;32m    129\u001b[0m     \u001b[0;32mif\u001b[0m \u001b[0mnot_composite\u001b[0m \u001b[0;32mor\u001b[0m \u001b[0;32mnot\u001b[0m \u001b[0mhas_images\u001b[0m\u001b[0;34m:\u001b[0m\u001b[0;34m\u001b[0m\u001b[0;34m\u001b[0m\u001b[0m\n\u001b[1;32m    130\u001b[0m         \u001b[0;32mfor\u001b[0m \u001b[0ma\u001b[0m \u001b[0;32min\u001b[0m \u001b[0martists\u001b[0m\u001b[0;34m:\u001b[0m\u001b[0;34m\u001b[0m\u001b[0;34m\u001b[0m\u001b[0m\n\u001b[0;32m--> 131\u001b[0;31m             \u001b[0ma\u001b[0m\u001b[0;34m.\u001b[0m\u001b[0mdraw\u001b[0m\u001b[0;34m(\u001b[0m\u001b[0mrenderer\u001b[0m\u001b[0;34m)\u001b[0m\u001b[0;34m\u001b[0m\u001b[0;34m\u001b[0m\u001b[0m\n\u001b[0m\u001b[1;32m    132\u001b[0m     \u001b[0;32melse\u001b[0m\u001b[0;34m:\u001b[0m\u001b[0;34m\u001b[0m\u001b[0;34m\u001b[0m\u001b[0m\n\u001b[1;32m    133\u001b[0m         \u001b[0;31m# Composite any adjacent images together\u001b[0m\u001b[0;34m\u001b[0m\u001b[0;34m\u001b[0m\u001b[0;34m\u001b[0m\u001b[0m\n",
      "\u001b[0;32m~/.local/lib/python3.8/site-packages/matplotlib/artist.py\u001b[0m in \u001b[0;36mdraw_wrapper\u001b[0;34m(artist, renderer, *args, **kwargs)\u001b[0m\n\u001b[1;32m     39\u001b[0m                 \u001b[0mrenderer\u001b[0m\u001b[0;34m.\u001b[0m\u001b[0mstart_filter\u001b[0m\u001b[0;34m(\u001b[0m\u001b[0;34m)\u001b[0m\u001b[0;34m\u001b[0m\u001b[0;34m\u001b[0m\u001b[0m\n\u001b[1;32m     40\u001b[0m \u001b[0;34m\u001b[0m\u001b[0m\n\u001b[0;32m---> 41\u001b[0;31m             \u001b[0;32mreturn\u001b[0m \u001b[0mdraw\u001b[0m\u001b[0;34m(\u001b[0m\u001b[0martist\u001b[0m\u001b[0;34m,\u001b[0m \u001b[0mrenderer\u001b[0m\u001b[0;34m,\u001b[0m \u001b[0;34m*\u001b[0m\u001b[0margs\u001b[0m\u001b[0;34m,\u001b[0m \u001b[0;34m**\u001b[0m\u001b[0mkwargs\u001b[0m\u001b[0;34m)\u001b[0m\u001b[0;34m\u001b[0m\u001b[0;34m\u001b[0m\u001b[0m\n\u001b[0m\u001b[1;32m     42\u001b[0m         \u001b[0;32mfinally\u001b[0m\u001b[0;34m:\u001b[0m\u001b[0;34m\u001b[0m\u001b[0;34m\u001b[0m\u001b[0m\n\u001b[1;32m     43\u001b[0m             \u001b[0;32mif\u001b[0m \u001b[0martist\u001b[0m\u001b[0;34m.\u001b[0m\u001b[0mget_agg_filter\u001b[0m\u001b[0;34m(\u001b[0m\u001b[0;34m)\u001b[0m \u001b[0;32mis\u001b[0m \u001b[0;32mnot\u001b[0m \u001b[0;32mNone\u001b[0m\u001b[0;34m:\u001b[0m\u001b[0;34m\u001b[0m\u001b[0;34m\u001b[0m\u001b[0m\n",
      "\u001b[0;32m~/.local/lib/python3.8/site-packages/matplotlib/text.py\u001b[0m in \u001b[0;36mdraw\u001b[0;34m(self, renderer)\u001b[0m\n\u001b[1;32m    679\u001b[0m \u001b[0;34m\u001b[0m\u001b[0m\n\u001b[1;32m    680\u001b[0m         \u001b[0;32mwith\u001b[0m \u001b[0m_wrap_text\u001b[0m\u001b[0;34m(\u001b[0m\u001b[0mself\u001b[0m\u001b[0;34m)\u001b[0m \u001b[0;32mas\u001b[0m \u001b[0mtextobj\u001b[0m\u001b[0;34m:\u001b[0m\u001b[0;34m\u001b[0m\u001b[0;34m\u001b[0m\u001b[0m\n\u001b[0;32m--> 681\u001b[0;31m             \u001b[0mbbox\u001b[0m\u001b[0;34m,\u001b[0m \u001b[0minfo\u001b[0m\u001b[0;34m,\u001b[0m \u001b[0mdescent\u001b[0m \u001b[0;34m=\u001b[0m \u001b[0mtextobj\u001b[0m\u001b[0;34m.\u001b[0m\u001b[0m_get_layout\u001b[0m\u001b[0;34m(\u001b[0m\u001b[0mrenderer\u001b[0m\u001b[0;34m)\u001b[0m\u001b[0;34m\u001b[0m\u001b[0;34m\u001b[0m\u001b[0m\n\u001b[0m\u001b[1;32m    682\u001b[0m             \u001b[0mtrans\u001b[0m \u001b[0;34m=\u001b[0m \u001b[0mtextobj\u001b[0m\u001b[0;34m.\u001b[0m\u001b[0mget_transform\u001b[0m\u001b[0;34m(\u001b[0m\u001b[0;34m)\u001b[0m\u001b[0;34m\u001b[0m\u001b[0;34m\u001b[0m\u001b[0m\n\u001b[1;32m    683\u001b[0m \u001b[0;34m\u001b[0m\u001b[0m\n",
      "\u001b[0;32m~/.local/lib/python3.8/site-packages/matplotlib/text.py\u001b[0m in \u001b[0;36m_get_layout\u001b[0;34m(self, renderer)\u001b[0m\n\u001b[1;32m    285\u001b[0m \u001b[0;34m\u001b[0m\u001b[0m\n\u001b[1;32m    286\u001b[0m         \u001b[0;31m# Full vertical extent of font, including ascenders and descenders:\u001b[0m\u001b[0;34m\u001b[0m\u001b[0;34m\u001b[0m\u001b[0;34m\u001b[0m\u001b[0m\n\u001b[0;32m--> 287\u001b[0;31m         _, lp_h, lp_d = renderer.get_text_width_height_descent(\n\u001b[0m\u001b[1;32m    288\u001b[0m             \u001b[0;34m\"lp\"\u001b[0m\u001b[0;34m,\u001b[0m \u001b[0mself\u001b[0m\u001b[0;34m.\u001b[0m\u001b[0m_fontproperties\u001b[0m\u001b[0;34m,\u001b[0m\u001b[0;34m\u001b[0m\u001b[0;34m\u001b[0m\u001b[0m\n\u001b[1;32m    289\u001b[0m             ismath=\"TeX\" if self.get_usetex() else False)\n",
      "\u001b[0;32m~/.local/lib/python3.8/site-packages/matplotlib/backends/backend_agg.py\u001b[0m in \u001b[0;36mget_text_width_height_descent\u001b[0;34m(self, s, prop, ismath)\u001b[0m\n\u001b[1;32m    236\u001b[0m         \u001b[0mflags\u001b[0m \u001b[0;34m=\u001b[0m \u001b[0mget_hinting_flag\u001b[0m\u001b[0;34m(\u001b[0m\u001b[0;34m)\u001b[0m\u001b[0;34m\u001b[0m\u001b[0;34m\u001b[0m\u001b[0m\n\u001b[1;32m    237\u001b[0m         \u001b[0mfont\u001b[0m \u001b[0;34m=\u001b[0m \u001b[0mself\u001b[0m\u001b[0;34m.\u001b[0m\u001b[0m_get_agg_font\u001b[0m\u001b[0;34m(\u001b[0m\u001b[0mprop\u001b[0m\u001b[0;34m)\u001b[0m\u001b[0;34m\u001b[0m\u001b[0;34m\u001b[0m\u001b[0m\n\u001b[0;32m--> 238\u001b[0;31m         \u001b[0mfont\u001b[0m\u001b[0;34m.\u001b[0m\u001b[0mset_text\u001b[0m\u001b[0;34m(\u001b[0m\u001b[0ms\u001b[0m\u001b[0;34m,\u001b[0m \u001b[0;36m0.0\u001b[0m\u001b[0;34m,\u001b[0m \u001b[0mflags\u001b[0m\u001b[0;34m=\u001b[0m\u001b[0mflags\u001b[0m\u001b[0;34m)\u001b[0m\u001b[0;34m\u001b[0m\u001b[0;34m\u001b[0m\u001b[0m\n\u001b[0m\u001b[1;32m    239\u001b[0m         \u001b[0mw\u001b[0m\u001b[0;34m,\u001b[0m \u001b[0mh\u001b[0m \u001b[0;34m=\u001b[0m \u001b[0mfont\u001b[0m\u001b[0;34m.\u001b[0m\u001b[0mget_width_height\u001b[0m\u001b[0;34m(\u001b[0m\u001b[0;34m)\u001b[0m  \u001b[0;31m# width and height of unrotated string\u001b[0m\u001b[0;34m\u001b[0m\u001b[0;34m\u001b[0m\u001b[0m\n\u001b[1;32m    240\u001b[0m         \u001b[0md\u001b[0m \u001b[0;34m=\u001b[0m \u001b[0mfont\u001b[0m\u001b[0;34m.\u001b[0m\u001b[0mget_descent\u001b[0m\u001b[0;34m(\u001b[0m\u001b[0;34m)\u001b[0m\u001b[0;34m\u001b[0m\u001b[0;34m\u001b[0m\u001b[0m\n",
      "\u001b[0;31mKeyboardInterrupt\u001b[0m: "
     ]
    }
   ],
   "source": [
    "plt.figure(figsize=(30, 25))\n",
    "sns.heatmap(nba_dataset.corr(), annot=True, cmap='Greens', linewidths=0.5)"
   ]
  },
  {
   "cell_type": "markdown",
   "id": "crucial-overall",
   "metadata": {},
   "source": [
    "I'm gonna keep some features just for further analysis. Once they are not usefull anymore I'll take them out."
   ]
  },
  {
   "cell_type": "markdown",
   "id": "silent-delaware",
   "metadata": {},
   "source": [
    "## Outlier Analysis"
   ]
  },
  {
   "cell_type": "markdown",
   "id": "certified-kazakhstan",
   "metadata": {},
   "source": [
    "### Functions Definition"
   ]
  },
  {
   "cell_type": "code",
   "execution_count": 5,
   "id": "outstanding-badge",
   "metadata": {},
   "outputs": [],
   "source": [
    "def limit_calc(column):\n",
    "    q1 = column.quantile(0.25)\n",
    "    q3 = column.quantile(0.75)\n",
    "    amplitude = q3 - q1\n",
    "    return q1 - 1.5 * amplitude, q3 + 1.5 * amplitude"
   ]
  },
  {
   "cell_type": "code",
   "execution_count": 6,
   "id": "artificial-slide",
   "metadata": {},
   "outputs": [],
   "source": [
    "def boxplot(column):\n",
    "    fig, (ax1, ax2) = plt.subplots(1, 2)\n",
    "    fig.set_size_inches(15, 5)\n",
    "    sns.boxplot(x=column, ax=ax1)\n",
    "    ax2.set_xlim(limit_calc(column))\n",
    "    sns.boxplot(x=column, ax=ax2)\n",
    "    \n",
    "def histogram(column,color=None):\n",
    "    plt.figure(figsize=(15, 5))\n",
    "    sns.histplot(column,color=color)\n",
    "\n",
    "def bar_chart(column):  \n",
    "    plt.figure(figsize=(15, 5))\n",
    "    ax = sns.barplot(x=column.value_counts().index, y=column.value_counts())\n",
    "    ax.set_xlim(limit_calc(column))"
   ]
  },
  {
   "cell_type": "markdown",
   "id": "acceptable-summary",
   "metadata": {},
   "source": [
    "### 3-Point Field Goal Percentage"
   ]
  },
  {
   "cell_type": "code",
   "execution_count": 7,
   "id": "first-watts",
   "metadata": {},
   "outputs": [
    {
     "data": {
      "image/png": "[encoded data removed]",
      "text/plain": [
       "<Figure size 1080x360 with 1 Axes>"
      ]
     },
     "metadata": {
      "needs_background": "light"
     },
     "output_type": "display_data"
    }
   ],
   "source": [
    "histogram(nba_dataset['3P%'],\"Green\")"
   ]
  },
  {
   "cell_type": "markdown",
   "id": "hundred-contest",
   "metadata": {},
   "source": [
    "Probably a fews guys had 1 3-pt attempt and managed to score. Those sharpshooters with 100% accuracy gonna be taken out.\n",
    "\n",
    "Besides that, I gave 3 conditions to keep a player in the Dataset.\n",
    "<ol>\n",
    "    <li>Players within the margin: 0% ~ 60% </li>\n",
    "    <li>Players with more than 60% accuracy can be counted if they tried at least 50 shoots in the season</li>\n",
    "    <li>Kept the MVP and Candidates regardless their accuracy  </li>  \n",
    "</ol>"
   ]
  },
  {
   "cell_type": "code",
   "execution_count": 8,
   "id": "conventional-breakdown",
   "metadata": {},
   "outputs": [
    {
     "name": "stdout",
     "output_type": "stream",
     "text": [
      "193 rows removed\n"
     ]
    }
   ],
   "source": [
    "min_val = 0.0\n",
    "max_val = 0.6\n",
    "\n",
    "df_size = nba_dataset.shape[0]\n",
    "nba_dataset = nba_dataset.loc[((nba_dataset['3P%'] >= min_val) & (nba_dataset['3P%'] <= max_val)) \n",
    "                              | (nba_dataset['3P%'] > max_val) & (nba_dataset['3PA'] >= 50)\n",
    "                              | (nba_dataset['Status'] != 'OOR'), :]\n",
    "removed_rows = df_size - nba_dataset.shape[0]\n",
    "print('{} rows removed'.format(removed_rows))"
   ]
  },
  {
   "cell_type": "code",
   "execution_count": 9,
   "id": "therapeutic-range",
   "metadata": {},
   "outputs": [
    {
     "data": {
      "image/png": "[encoded data removed]",
      "text/plain": [
       "<Figure size 1080x360 with 1 Axes>"
      ]
     },
     "metadata": {
      "needs_background": "light"
     },
     "output_type": "display_data"
    }
   ],
   "source": [
    "histogram(nba_dataset['3P%'])"
   ]
  },
  {
   "cell_type": "markdown",
   "id": "rural-voluntary",
   "metadata": {},
   "source": [
    "### 2-Point Field Goal Percentage"
   ]
  },
  {
   "cell_type": "code",
   "execution_count": 10,
   "id": "disturbed-excuse",
   "metadata": {},
   "outputs": [
    {
     "data": {
      "image/png": "[encoded data removed]",
      "text/plain": [
       "<Figure size 1080x360 with 2 Axes>"
      ]
     },
     "metadata": {
      "needs_background": "light"
     },
     "output_type": "display_data"
    },
    {
     "data": {
      "image/png": "[encoded data removed]",
      "text/plain": [
       "<Figure size 1080x360 with 1 Axes>"
      ]
     },
     "metadata": {
      "needs_background": "light"
     },
     "output_type": "display_data"
    }
   ],
   "source": [
    "boxplot(nba_dataset['2P%'])\n",
    "histogram(nba_dataset['2P%'],\"Green\")"
   ]
  },
  {
   "cell_type": "markdown",
   "id": "supported-maryland",
   "metadata": {},
   "source": [
    "Here again, some bench warmers are generating a few outliers.\n",
    "\n",
    "The same 3 conditions will be repeated.<br> \n",
    "Here we gonna use a quantile (25% - 75%) calculation for the margins and we will consider 250 attempts to validate a outlier accuracy."
   ]
  },
  {
   "cell_type": "code",
   "execution_count": 11,
   "id": "signed-elder",
   "metadata": {},
   "outputs": [
    {
     "name": "stdout",
     "output_type": "stream",
     "text": [
      "1039 rows removed\n"
     ]
    }
   ],
   "source": [
    "min_val, max_val = limit_calc(nba_dataset['2P%'])\n",
    "\n",
    "df_size = nba_dataset.shape[0]\n",
    "nba_dataset = nba_dataset.loc[((nba_dataset['2P%'] >= min_val) & (nba_dataset['2P%'] <= max_val)) \n",
    "                              | (nba_dataset['2P%'] > max_val) & (nba_dataset['2PA'] >= 250)\n",
    "                              | (nba_dataset['Status'] != 'OOR'), :]\n",
    "removed_rows = df_size - nba_dataset.shape[0]\n",
    "print('{} rows removed'.format(removed_rows))"
   ]
  },
  {
   "cell_type": "code",
   "execution_count": 12,
   "id": "surface-regression",
   "metadata": {},
   "outputs": [
    {
     "ename": "KeyboardInterrupt",
     "evalue": "",
     "output_type": "error",
     "traceback": [
      "\u001b[0;31m---------------------------------------------------------------------------\u001b[0m",
      "\u001b[0;31mKeyboardInterrupt\u001b[0m                         Traceback (most recent call last)",
      "\u001b[0;32m<ipython-input-12-80e0ce0fc868>\u001b[0m in \u001b[0;36m<module>\u001b[0;34m\u001b[0m\n\u001b[0;32m----> 1\u001b[0;31m \u001b[0mhistogram\u001b[0m\u001b[0;34m(\u001b[0m\u001b[0mnba_dataset\u001b[0m\u001b[0;34m[\u001b[0m\u001b[0;34m'2P%'\u001b[0m\u001b[0;34m]\u001b[0m\u001b[0;34m)\u001b[0m\u001b[0;34m\u001b[0m\u001b[0;34m\u001b[0m\u001b[0m\n\u001b[0m",
      "\u001b[0;32m<ipython-input-6-7b01c03a9b74>\u001b[0m in \u001b[0;36mhistogram\u001b[0;34m(column, color)\u001b[0m\n\u001b[1;32m      8\u001b[0m \u001b[0;32mdef\u001b[0m \u001b[0mhistogram\u001b[0m\u001b[0;34m(\u001b[0m\u001b[0mcolumn\u001b[0m\u001b[0;34m,\u001b[0m\u001b[0mcolor\u001b[0m\u001b[0;34m=\u001b[0m\u001b[0;32mNone\u001b[0m\u001b[0;34m)\u001b[0m\u001b[0;34m:\u001b[0m\u001b[0;34m\u001b[0m\u001b[0;34m\u001b[0m\u001b[0m\n\u001b[1;32m      9\u001b[0m     \u001b[0mplt\u001b[0m\u001b[0;34m.\u001b[0m\u001b[0mfigure\u001b[0m\u001b[0;34m(\u001b[0m\u001b[0mfigsize\u001b[0m\u001b[0;34m=\u001b[0m\u001b[0;34m(\u001b[0m\u001b[0;36m15\u001b[0m\u001b[0;34m,\u001b[0m \u001b[0;36m5\u001b[0m\u001b[0;34m)\u001b[0m\u001b[0;34m)\u001b[0m\u001b[0;34m\u001b[0m\u001b[0;34m\u001b[0m\u001b[0m\n\u001b[0;32m---> 10\u001b[0;31m     \u001b[0msns\u001b[0m\u001b[0;34m.\u001b[0m\u001b[0mhistplot\u001b[0m\u001b[0;34m(\u001b[0m\u001b[0mcolumn\u001b[0m\u001b[0;34m,\u001b[0m\u001b[0mcolor\u001b[0m\u001b[0;34m=\u001b[0m\u001b[0mcolor\u001b[0m\u001b[0;34m)\u001b[0m\u001b[0;34m\u001b[0m\u001b[0;34m\u001b[0m\u001b[0m\n\u001b[0m\u001b[1;32m     11\u001b[0m \u001b[0;34m\u001b[0m\u001b[0m\n\u001b[1;32m     12\u001b[0m \u001b[0;32mdef\u001b[0m \u001b[0mbar_chart\u001b[0m\u001b[0;34m(\u001b[0m\u001b[0mcolumn\u001b[0m\u001b[0;34m)\u001b[0m\u001b[0;34m:\u001b[0m\u001b[0;34m\u001b[0m\u001b[0;34m\u001b[0m\u001b[0m\n",
      "\u001b[0;32m~/anaconda3/lib/python3.8/site-packages/seaborn/distributions.py\u001b[0m in \u001b[0;36mhistplot\u001b[0;34m(data, x, y, hue, weights, stat, bins, binwidth, binrange, discrete, cumulative, common_bins, common_norm, multiple, element, fill, shrink, kde, kde_kws, line_kws, thresh, pthresh, pmax, cbar, cbar_ax, cbar_kws, palette, hue_order, hue_norm, color, log_scale, legend, ax, **kwargs)\u001b[0m\n\u001b[1;32m   1420\u001b[0m     \u001b[0;32mif\u001b[0m \u001b[0mp\u001b[0m\u001b[0;34m.\u001b[0m\u001b[0munivariate\u001b[0m\u001b[0;34m:\u001b[0m\u001b[0;34m\u001b[0m\u001b[0;34m\u001b[0m\u001b[0m\n\u001b[1;32m   1421\u001b[0m \u001b[0;34m\u001b[0m\u001b[0m\n\u001b[0;32m-> 1422\u001b[0;31m         p.plot_univariate_histogram(\n\u001b[0m\u001b[1;32m   1423\u001b[0m             \u001b[0mmultiple\u001b[0m\u001b[0;34m=\u001b[0m\u001b[0mmultiple\u001b[0m\u001b[0;34m,\u001b[0m\u001b[0;34m\u001b[0m\u001b[0;34m\u001b[0m\u001b[0m\n\u001b[1;32m   1424\u001b[0m             \u001b[0melement\u001b[0m\u001b[0;34m=\u001b[0m\u001b[0melement\u001b[0m\u001b[0;34m,\u001b[0m\u001b[0;34m\u001b[0m\u001b[0;34m\u001b[0m\u001b[0m\n",
      "\u001b[0;32m~/anaconda3/lib/python3.8/site-packages/seaborn/distributions.py\u001b[0m in \u001b[0;36mplot_univariate_histogram\u001b[0;34m(self, multiple, element, fill, common_norm, common_bins, shrink, kde, kde_kws, color, legend, line_kws, estimate_kws, **plot_kws)\u001b[0m\n\u001b[1;32m    450\u001b[0m \u001b[0;34m\u001b[0m\u001b[0m\n\u001b[1;32m    451\u001b[0m             \u001b[0;31m# Pack the histogram data and metadata together\u001b[0m\u001b[0;34m\u001b[0m\u001b[0;34m\u001b[0m\u001b[0;34m\u001b[0m\u001b[0m\n\u001b[0;32m--> 452\u001b[0;31m             index = pd.MultiIndex.from_arrays([\n\u001b[0m\u001b[1;32m    453\u001b[0m                 \u001b[0mpd\u001b[0m\u001b[0;34m.\u001b[0m\u001b[0mIndex\u001b[0m\u001b[0;34m(\u001b[0m\u001b[0medges\u001b[0m\u001b[0;34m[\u001b[0m\u001b[0;34m:\u001b[0m\u001b[0;34m-\u001b[0m\u001b[0;36m1\u001b[0m\u001b[0;34m]\u001b[0m\u001b[0;34m,\u001b[0m \u001b[0mname\u001b[0m\u001b[0;34m=\u001b[0m\u001b[0;34m\"edges\"\u001b[0m\u001b[0;34m)\u001b[0m\u001b[0;34m,\u001b[0m\u001b[0;34m\u001b[0m\u001b[0;34m\u001b[0m\u001b[0m\n\u001b[1;32m    454\u001b[0m                 \u001b[0mpd\u001b[0m\u001b[0;34m.\u001b[0m\u001b[0mIndex\u001b[0m\u001b[0;34m(\u001b[0m\u001b[0mnp\u001b[0m\u001b[0;34m.\u001b[0m\u001b[0mdiff\u001b[0m\u001b[0;34m(\u001b[0m\u001b[0medges\u001b[0m\u001b[0;34m)\u001b[0m \u001b[0;34m*\u001b[0m \u001b[0mshrink\u001b[0m\u001b[0;34m,\u001b[0m \u001b[0mname\u001b[0m\u001b[0;34m=\u001b[0m\u001b[0;34m\"widths\"\u001b[0m\u001b[0;34m)\u001b[0m\u001b[0;34m,\u001b[0m\u001b[0;34m\u001b[0m\u001b[0;34m\u001b[0m\u001b[0m\n",
      "\u001b[0;32m~/.local/lib/python3.8/site-packages/pandas/core/indexes/multi.py\u001b[0m in \u001b[0;36mfrom_arrays\u001b[0;34m(cls, arrays, sortorder, names)\u001b[0m\n\u001b[1;32m    464\u001b[0m             \u001b[0mnames\u001b[0m \u001b[0;34m=\u001b[0m \u001b[0;34m[\u001b[0m\u001b[0mgetattr\u001b[0m\u001b[0;34m(\u001b[0m\u001b[0marr\u001b[0m\u001b[0;34m,\u001b[0m \u001b[0;34m\"name\"\u001b[0m\u001b[0;34m,\u001b[0m \u001b[0;32mNone\u001b[0m\u001b[0;34m)\u001b[0m \u001b[0;32mfor\u001b[0m \u001b[0marr\u001b[0m \u001b[0;32min\u001b[0m \u001b[0marrays\u001b[0m\u001b[0;34m]\u001b[0m\u001b[0;34m\u001b[0m\u001b[0;34m\u001b[0m\u001b[0m\n\u001b[1;32m    465\u001b[0m \u001b[0;34m\u001b[0m\u001b[0m\n\u001b[0;32m--> 466\u001b[0;31m         return cls(\n\u001b[0m\u001b[1;32m    467\u001b[0m             \u001b[0mlevels\u001b[0m\u001b[0;34m=\u001b[0m\u001b[0mlevels\u001b[0m\u001b[0;34m,\u001b[0m\u001b[0;34m\u001b[0m\u001b[0;34m\u001b[0m\u001b[0m\n\u001b[1;32m    468\u001b[0m             \u001b[0mcodes\u001b[0m\u001b[0;34m=\u001b[0m\u001b[0mcodes\u001b[0m\u001b[0;34m,\u001b[0m\u001b[0;34m\u001b[0m\u001b[0;34m\u001b[0m\u001b[0m\n",
      "\u001b[0;32m~/.local/lib/python3.8/site-packages/pandas/core/indexes/multi.py\u001b[0m in \u001b[0;36m__new__\u001b[0;34m(cls, levels, codes, sortorder, names, dtype, copy, name, verify_integrity)\u001b[0m\n\u001b[1;32m    301\u001b[0m         \u001b[0;31m# we've already validated levels and codes, so shortcut here\u001b[0m\u001b[0;34m\u001b[0m\u001b[0;34m\u001b[0m\u001b[0;34m\u001b[0m\u001b[0m\n\u001b[1;32m    302\u001b[0m         \u001b[0mresult\u001b[0m\u001b[0;34m.\u001b[0m\u001b[0m_set_levels\u001b[0m\u001b[0;34m(\u001b[0m\u001b[0mlevels\u001b[0m\u001b[0;34m,\u001b[0m \u001b[0mcopy\u001b[0m\u001b[0;34m=\u001b[0m\u001b[0mcopy\u001b[0m\u001b[0;34m,\u001b[0m \u001b[0mvalidate\u001b[0m\u001b[0;34m=\u001b[0m\u001b[0;32mFalse\u001b[0m\u001b[0;34m)\u001b[0m\u001b[0;34m\u001b[0m\u001b[0;34m\u001b[0m\u001b[0m\n\u001b[0;32m--> 303\u001b[0;31m         \u001b[0mresult\u001b[0m\u001b[0;34m.\u001b[0m\u001b[0m_set_codes\u001b[0m\u001b[0;34m(\u001b[0m\u001b[0mcodes\u001b[0m\u001b[0;34m,\u001b[0m \u001b[0mcopy\u001b[0m\u001b[0;34m=\u001b[0m\u001b[0mcopy\u001b[0m\u001b[0;34m,\u001b[0m \u001b[0mvalidate\u001b[0m\u001b[0;34m=\u001b[0m\u001b[0;32mFalse\u001b[0m\u001b[0;34m)\u001b[0m\u001b[0;34m\u001b[0m\u001b[0;34m\u001b[0m\u001b[0m\n\u001b[0m\u001b[1;32m    304\u001b[0m \u001b[0;34m\u001b[0m\u001b[0m\n\u001b[1;32m    305\u001b[0m         \u001b[0mresult\u001b[0m\u001b[0;34m.\u001b[0m\u001b[0m_names\u001b[0m \u001b[0;34m=\u001b[0m \u001b[0;34m[\u001b[0m\u001b[0;32mNone\u001b[0m\u001b[0;34m]\u001b[0m \u001b[0;34m*\u001b[0m \u001b[0mlen\u001b[0m\u001b[0;34m(\u001b[0m\u001b[0mlevels\u001b[0m\u001b[0;34m)\u001b[0m\u001b[0;34m\u001b[0m\u001b[0;34m\u001b[0m\u001b[0m\n",
      "\u001b[0;32m~/.local/lib/python3.8/site-packages/pandas/core/indexes/multi.py\u001b[0m in \u001b[0;36m_set_codes\u001b[0;34m(self, codes, level, copy, validate, verify_integrity)\u001b[0m\n\u001b[1;32m    944\u001b[0m \u001b[0;34m\u001b[0m\u001b[0m\n\u001b[1;32m    945\u001b[0m         \u001b[0;32mif\u001b[0m \u001b[0mlevel\u001b[0m \u001b[0;32mis\u001b[0m \u001b[0;32mNone\u001b[0m\u001b[0;34m:\u001b[0m\u001b[0;34m\u001b[0m\u001b[0;34m\u001b[0m\u001b[0m\n\u001b[0;32m--> 946\u001b[0;31m             new_codes = FrozenList(\n\u001b[0m\u001b[1;32m    947\u001b[0m                 \u001b[0m_coerce_indexer_frozen\u001b[0m\u001b[0;34m(\u001b[0m\u001b[0mlevel_codes\u001b[0m\u001b[0;34m,\u001b[0m \u001b[0mlev\u001b[0m\u001b[0;34m,\u001b[0m \u001b[0mcopy\u001b[0m\u001b[0;34m=\u001b[0m\u001b[0mcopy\u001b[0m\u001b[0;34m)\u001b[0m\u001b[0;34m.\u001b[0m\u001b[0mview\u001b[0m\u001b[0;34m(\u001b[0m\u001b[0;34m)\u001b[0m\u001b[0;34m\u001b[0m\u001b[0;34m\u001b[0m\u001b[0m\n\u001b[1;32m    948\u001b[0m                 \u001b[0;32mfor\u001b[0m \u001b[0mlev\u001b[0m\u001b[0;34m,\u001b[0m \u001b[0mlevel_codes\u001b[0m \u001b[0;32min\u001b[0m \u001b[0mzip\u001b[0m\u001b[0;34m(\u001b[0m\u001b[0mself\u001b[0m\u001b[0;34m.\u001b[0m\u001b[0m_levels\u001b[0m\u001b[0;34m,\u001b[0m \u001b[0mcodes\u001b[0m\u001b[0;34m)\u001b[0m\u001b[0;34m\u001b[0m\u001b[0;34m\u001b[0m\u001b[0m\n",
      "\u001b[0;32m~/.local/lib/python3.8/site-packages/pandas/core/indexes/multi.py\u001b[0m in \u001b[0;36m<genexpr>\u001b[0;34m(.0)\u001b[0m\n\u001b[1;32m    945\u001b[0m         \u001b[0;32mif\u001b[0m \u001b[0mlevel\u001b[0m \u001b[0;32mis\u001b[0m \u001b[0;32mNone\u001b[0m\u001b[0;34m:\u001b[0m\u001b[0;34m\u001b[0m\u001b[0;34m\u001b[0m\u001b[0m\n\u001b[1;32m    946\u001b[0m             new_codes = FrozenList(\n\u001b[0;32m--> 947\u001b[0;31m                 \u001b[0m_coerce_indexer_frozen\u001b[0m\u001b[0;34m(\u001b[0m\u001b[0mlevel_codes\u001b[0m\u001b[0;34m,\u001b[0m \u001b[0mlev\u001b[0m\u001b[0;34m,\u001b[0m \u001b[0mcopy\u001b[0m\u001b[0;34m=\u001b[0m\u001b[0mcopy\u001b[0m\u001b[0;34m)\u001b[0m\u001b[0;34m.\u001b[0m\u001b[0mview\u001b[0m\u001b[0;34m(\u001b[0m\u001b[0;34m)\u001b[0m\u001b[0;34m\u001b[0m\u001b[0;34m\u001b[0m\u001b[0m\n\u001b[0m\u001b[1;32m    948\u001b[0m                 \u001b[0;32mfor\u001b[0m \u001b[0mlev\u001b[0m\u001b[0;34m,\u001b[0m \u001b[0mlevel_codes\u001b[0m \u001b[0;32min\u001b[0m \u001b[0mzip\u001b[0m\u001b[0;34m(\u001b[0m\u001b[0mself\u001b[0m\u001b[0;34m.\u001b[0m\u001b[0m_levels\u001b[0m\u001b[0;34m,\u001b[0m \u001b[0mcodes\u001b[0m\u001b[0;34m)\u001b[0m\u001b[0;34m\u001b[0m\u001b[0;34m\u001b[0m\u001b[0m\n\u001b[1;32m    949\u001b[0m             )\n",
      "\u001b[0;32m~/.local/lib/python3.8/site-packages/pandas/core/indexes/multi.py\u001b[0m in \u001b[0;36m_coerce_indexer_frozen\u001b[0;34m(array_like, categories, copy)\u001b[0m\n\u001b[1;32m   3947\u001b[0m \u001b[0;34m\u001b[0m\u001b[0m\n\u001b[1;32m   3948\u001b[0m \u001b[0;34m\u001b[0m\u001b[0m\n\u001b[0;32m-> 3949\u001b[0;31m \u001b[0;32mdef\u001b[0m \u001b[0m_coerce_indexer_frozen\u001b[0m\u001b[0;34m(\u001b[0m\u001b[0marray_like\u001b[0m\u001b[0;34m,\u001b[0m \u001b[0mcategories\u001b[0m\u001b[0;34m,\u001b[0m \u001b[0mcopy\u001b[0m\u001b[0;34m:\u001b[0m \u001b[0mbool\u001b[0m \u001b[0;34m=\u001b[0m \u001b[0;32mFalse\u001b[0m\u001b[0;34m)\u001b[0m \u001b[0;34m->\u001b[0m \u001b[0mnp\u001b[0m\u001b[0;34m.\u001b[0m\u001b[0mndarray\u001b[0m\u001b[0;34m:\u001b[0m\u001b[0;34m\u001b[0m\u001b[0;34m\u001b[0m\u001b[0m\n\u001b[0m\u001b[1;32m   3950\u001b[0m     \"\"\"\n\u001b[1;32m   3951\u001b[0m     \u001b[0mCoerce\u001b[0m \u001b[0mthe\u001b[0m \u001b[0marray_like\u001b[0m \u001b[0mindexer\u001b[0m \u001b[0mto\u001b[0m \u001b[0mthe\u001b[0m \u001b[0msmallest\u001b[0m \u001b[0minteger\u001b[0m \u001b[0mdtype\u001b[0m \u001b[0mthat\u001b[0m \u001b[0mcan\u001b[0m \u001b[0mencode\u001b[0m \u001b[0mall\u001b[0m\u001b[0;34m\u001b[0m\u001b[0;34m\u001b[0m\u001b[0m\n",
      "\u001b[0;31mKeyboardInterrupt\u001b[0m: "
     ]
    },
    {
     "data": {
      "image/png": "[encoded data removed]",
      "text/plain": [
       "<Figure size 1080x360 with 1 Axes>"
      ]
     },
     "metadata": {
      "needs_background": "light"
     },
     "output_type": "display_data"
    }
   ],
   "source": [
    "histogram(nba_dataset['2P%'])"
   ]
  },
  {
   "cell_type": "markdown",
   "id": "immune-survey",
   "metadata": {},
   "source": [
    "We can see that there's still a few guys over 65% that may be outliers, let's check."
   ]
  },
  {
   "cell_type": "code",
   "execution_count": null,
   "id": "opponent-western",
   "metadata": {},
   "outputs": [],
   "source": [
    "max_val = 0.65\n",
    "\n",
    "outliers = nba_dataset.loc[(nba_dataset['2P%'] >= max_val) & (nba_dataset['2PA'] >= 250), :]\n",
    "display(outliers)"
   ]
  },
  {
   "cell_type": "markdown",
   "id": "unavailable-tablet",
   "metadata": {},
   "source": [
    "As expected, all centers that love the rim."
   ]
  },
  {
   "cell_type": "markdown",
   "id": "progressive-bennett",
   "metadata": {},
   "source": [
    "### FT% : Free Throw Percentage"
   ]
  },
  {
   "cell_type": "code",
   "execution_count": null,
   "id": "central-dutch",
   "metadata": {},
   "outputs": [],
   "source": [
    "histogram(nba_dataset['FT%'],\"Green\")"
   ]
  },
  {
   "cell_type": "markdown",
   "id": "swedish-process",
   "metadata": {},
   "source": [
    "It seems that too many guys had 0% or 100% accuracy. Again, weird numbers.\n",
    "\n",
    "Gonna treat that, by taking the mean of Free Throw Attempts in count."
   ]
  },
  {
   "cell_type": "code",
   "execution_count": null,
   "id": "graduate-breach",
   "metadata": {},
   "outputs": [],
   "source": [
    "print(f\"FTA mean: {nba_dataset['FTA'].mean():.0F}\")"
   ]
  },
  {
   "cell_type": "markdown",
   "id": "virtual-dinner",
   "metadata": {},
   "source": [
    "So let's consider one third of the FTA mean (50 attempts) as the margin and see what happens."
   ]
  },
  {
   "cell_type": "code",
   "execution_count": null,
   "id": "loaded-benjamin",
   "metadata": {},
   "outputs": [],
   "source": [
    "df_size = nba_dataset.shape[0]\n",
    "nba_dataset = nba_dataset.loc[(nba_dataset['FTA'] >= 50)\n",
    "                              | (nba_dataset['Status'] != 'OOR'), :]\n",
    "removed_rows = df_size - nba_dataset.shape[0]\n",
    "print('{} rows removed'.format(removed_rows))"
   ]
  },
  {
   "cell_type": "code",
   "execution_count": null,
   "id": "pleased-anthropology",
   "metadata": {},
   "outputs": [],
   "source": [
    "histogram(nba_dataset['FT%'])"
   ]
  },
  {
   "cell_type": "markdown",
   "id": "transparent-collector",
   "metadata": {},
   "source": [
    "#### Fun Fact Section\n",
    "\n",
    "If you are wondering who are the guys below 35% free throw accuracy with 50 or more attempts, here are the nominees: "
   ]
  },
  {
   "cell_type": "code",
   "execution_count": null,
   "id": "criminal-sitting",
   "metadata": {},
   "outputs": [],
   "source": [
    "dfloosers = nba_dataset.loc[(nba_dataset['FTA'] >= 50)\n",
    "                        & (nba_dataset['FT%'] <= 0.35), ['Player','Pos','FTA','FT%','Season']]\n",
    "\n",
    "display(dfloosers.sort_values(by=['FT%','FTA'], ascending=[True,False]))"
   ]
  },
  {
   "cell_type": "markdown",
   "id": "incorporated-sussex",
   "metadata": {},
   "source": [
    "A few famous names here. Congrats to the Wizards on drafting Kwame Brown as a first pick."
   ]
  },
  {
   "cell_type": "markdown",
   "id": "suspected-motor",
   "metadata": {},
   "source": [
    "I think the ones with more than 95% should also have their names listed, so here it goes:"
   ]
  },
  {
   "cell_type": "code",
   "execution_count": null,
   "id": "efficient-gambling",
   "metadata": {},
   "outputs": [],
   "source": [
    "dfwow = nba_dataset.loc[(nba_dataset['FTA'] >= 50)\n",
    "                        & (nba_dataset['FT%'] >= 0.95), ['Player','Pos','FTA','FT%','Season']]\n",
    "\n",
    "display(dfwow.sort_values(by=['FT%','FTA'], ascending=[False,False]))"
   ]
  },
  {
   "cell_type": "markdown",
   "id": "veterinary-given",
   "metadata": {},
   "source": [
    "Now that the hard work is done, we can take out the attempts features."
   ]
  },
  {
   "cell_type": "code",
   "execution_count": null,
   "id": "collect-lighter",
   "metadata": {},
   "outputs": [],
   "source": [
    "nba_dataset = nba_dataset.drop(columns=['3PA','2PA','FTA','FGA','3PAr','FTr'])\n",
    "display(nba_dataset)\n",
    "nba_dataset.info()"
   ]
  },
  {
   "cell_type": "code",
   "execution_count": null,
   "id": "piano-tennis",
   "metadata": {},
   "outputs": [],
   "source": [
    "full_nba_dataset = nba_dataset"
   ]
  },
  {
   "cell_type": "markdown",
   "id": "registered-musical",
   "metadata": {},
   "source": [
    "## Models"
   ]
  },
  {
   "cell_type": "markdown",
   "id": "macro-representative",
   "metadata": {},
   "source": [
    "#### Decision Tree"
   ]
  },
  {
   "cell_type": "raw",
   "id": "champion-spelling",
   "metadata": {},
   "source": [
    "# model = ExtraTreesRegressor()\n",
    "# model = RandomForestRegressor()\n",
    "model = tree.DecisionTreeRegressor(criterion='mae',max_depth=3)\n",
    "# splitter{“best”, “random”}"
   ]
  },
  {
   "cell_type": "raw",
   "id": "female-implementation",
   "metadata": {},
   "source": [
    "# Literal Data\n",
    "cols = ['Player', 'Pos', 'Age','Status'] \n",
    "nba_dataset = nba_dataset.drop(cols,axis=1)"
   ]
  },
  {
   "cell_type": "markdown",
   "id": "collective-albuquerque",
   "metadata": {},
   "source": [
    "#### Feature Selection"
   ]
  },
  {
   "cell_type": "code",
   "execution_count": null,
   "id": "secure-blake",
   "metadata": {},
   "outputs": [],
   "source": [
    "df_clear = pd.DataFrame()\n",
    "feature_list = ['3P%', '2P%', 'eFG%', 'FT%', 'ORB', 'DRB', 'AST', 'STL', 'BLK', 'TOV', 'PF', 'PTS', 'PER', 'TS%', 'TRB%', 'AST%', 'STL%', 'BLK%', 'TOV%', 'USG%', 'WS', 'BPM', 'VORP']\n",
    "# ['VORP','WS','PER','BPM','PTS']\n",
    "feature_values = []\n",
    "\n",
    "for feature in feature_list:\n",
    "    for season in np.arange(1981,2021,1):\n",
    "        df = full_nba_dataset.loc[(full_nba_dataset['Season'] == season), ['Season','Player',feature,'Status']]\n",
    "        df = df.sort_values(by=feature, ascending= False)\n",
    "\n",
    "        if season == 1981:\n",
    "            df_clear = df.iloc[:1]\n",
    "        else:\n",
    "            df_clear = df_clear.append(df.iloc[:1])\n",
    "\n",
    "    df = df_clear.groupby('Status').size().reset_index(name='counts')\n",
    "    df = df.sort_values(by='Status')\n",
    "    \n",
    "    df = df.set_index(['Status'])\n",
    "    \n",
    "#     display(df)\n",
    "#     importance = (df.iat[1,1]/(df.iat[1,1]+df.iat[0,1]))*100\n",
    "    try:\n",
    "        importance = (df.at['MVP','counts']/40)\n",
    "    except:\n",
    "        importance = 0\n",
    "\n",
    "    feature_values.append('{:.2f}'.format(importance)) \n",
    "\n",
    "dfts = pd.DataFrame()\n",
    "dfts['Features'] = feature_list\n",
    "dfts['Importance'] = feature_values\n",
    "display(dfts.sort_values(by='Importance',ascending=False)) \n"
   ]
  },
  {
   "cell_type": "markdown",
   "id": "accessory-setting",
   "metadata": {},
   "source": [
    "3P%\t0.018766\n",
    "DRB\t0.018592\n",
    "TS%\t0.017796\n",
    "AST\t0.016651\n",
    "TOV%\t0.016171\n",
    "AST%\t0.015202\n",
    "STL\t0.014527\n",
    "eFG%\t0.014288\n",
    "TRB%\t0.014069\n",
    "ORB\t0.013704\n",
    "STL%\t0.013133\n",
    "2P%\t0.012645\n",
    "BLK\t0.012509\n",
    "BLK%\t0.010437"
   ]
  },
  {
   "cell_type": "code",
   "execution_count": null,
   "id": "forbidden-modeling",
   "metadata": {},
   "outputs": [],
   "source": [
    "def model_score(dataframe,model,features,iterations=1,path='./misses/trash'):\n",
    "    \n",
    "    nro_of_corrects = 0\n",
    "    nro_of_top3_corrects = 0\n",
    "\n",
    "    file = open(f\"{path}/output.txt\",\"w\")\n",
    "    \n",
    "    file.write('Model : {}\\n{} features : {}\\n'.format(model,len(features),features))\n",
    "\n",
    "    t1 = time.time()\n",
    "\n",
    "    for season in np.arange(1981,2021,1):\n",
    "\n",
    "        text = f' {season} |'\n",
    "\n",
    "        y_train = dataframe.loc[(dataframe['Season'] != season),['Share']]\n",
    "        y_train = np.ravel(y_train)\n",
    "        y_test = dataframe.loc[(dataframe['Season'] == season),['Share']]\n",
    "        y_test = np.ravel(y_test)\n",
    "\n",
    "        X_train = dataframe.loc[(dataframe['Season'] != season),:].drop(['Share','Season'], axis=1)\n",
    "        X_test = dataframe.loc[(dataframe['Season'] == season),:].drop(['Share','Season'], axis=1)\n",
    "\n",
    "        players_rank = dict()\n",
    "        df = full_nba_dataset.loc[(full_nba_dataset['Season'] == season),['Player','Share','Season']]\n",
    "        df_truth = df.sort_values(by='Share', ascending=False)\n",
    "\n",
    "        for i in range(iterations):\n",
    "\n",
    "            model.fit(X_train, y_train)\n",
    "            pred = model.predict(X_test)\n",
    "\n",
    "            df['Pred'] = pred.tolist()\n",
    "            df_pred = df.drop(['Share'],axis=1).sort_values(by='Pred', ascending=False)\n",
    "\n",
    "            for j in range(5):\n",
    "                if df_pred.iat[j,0] in players_rank.keys():\n",
    "                    players_rank[df_pred.iat[j,0]] += (10-(j*2))\n",
    "                else:\n",
    "                    players_rank[df_pred.iat[j,0]] = (10-(j*2))\n",
    "\n",
    "        players_columns = list(players_rank.keys())\n",
    "        votes_columns = []\n",
    "\n",
    "        for k in players_columns:\n",
    "            votes_columns.append(players_rank[k])\n",
    "\n",
    "        data = dict()\n",
    "        data['Player'] = players_columns\n",
    "        data['Season'] = season\n",
    "        data['Pred'] = votes_columns\n",
    "\n",
    "        df_pred_final = pd.DataFrame(data)\n",
    "        df_pred_final = df_pred_final.sort_values(by='Pred', ascending=False)\n",
    "        df_pred_final.to_csv(f\"./predictions/{season}_pred.csv\")\n",
    "\n",
    "        pred_top3 = list(df_pred_final['Player'].iloc[:3])\n",
    "        top3 = list(df_truth['Player'].iloc[:3]) \n",
    "        top3_success = list()\n",
    "\n",
    "        for z in pred_top3:\n",
    "            if z in top3:\n",
    "                top3_success.append(z)\n",
    "\n",
    "        df_comp = pd.DataFrame()\n",
    "\n",
    "        if pred_top3[0] == top3[0]:\n",
    "            sorf = 'Success'\n",
    "            nro_of_corrects += 1\n",
    "        else:\n",
    "            sorf = 'Fail'\n",
    "            df_comp = full_nba_dataset.loc[(full_nba_dataset['Season'] == season) & (full_nba_dataset['Player'] == top3[0]) ,:]\n",
    "            df_comp = df_comp.append(full_nba_dataset.loc[(full_nba_dataset['Season'] == season) & (full_nba_dataset['Player'] == pred_top3[0]) ,:])\n",
    "            df_comp['Label'] = ['Correct','Predicted']\n",
    "            df_comp.to_csv('{}/{}_miss.csv'.format(path,season),index=False)\n",
    "\n",
    "        text += '{:^10s}| '.format(sorf)\n",
    "\n",
    "\n",
    "        text += f'{len(top3_success)} from de top3 correct | {top3_success} |\\n'\n",
    "        nro_of_top3_corrects += len(top3_success)\n",
    "\n",
    "        file.write(str(text))\n",
    "\n",
    "    text = \"GLOBAL_SUCCESS_RATE : {:.2%}\\nGLOBAL_SUCCESS_RATE_TOP3 : {:.2%}\\n\".format((nro_of_corrects/40),(nro_of_top3_corrects/120))\n",
    "    print(text)\n",
    "    file.write(str(text))\n",
    "    t2 = time.time()\n",
    "\n",
    "    text = 'Time elapsed: {:.2f} seconds'.format(t2-t1)\n",
    "    file.write(str(text))\n",
    "    file.close()"
   ]
  },
  {
   "cell_type": "code",
   "execution_count": null,
   "id": "generous-trash",
   "metadata": {},
   "outputs": [],
   "source": [
    "nba_dataset = full_nba_dataset[['VORP','WS','PER','BPM','Season','Share']]\n",
    "choosen_model = tree.DecisionTreeRegressor(criterion='mae',max_depth=3)\n",
    "model_score(dataframe=nba_dataset,model=choosen_model,features=['VORP','WS','PER','BPM'],iterations=1,path='./misses/decision_three')\n",
    "\n",
    "# plt.figure(figsize=(15, 10))\n",
    "# tree.plot_tree(model)  \n",
    "# plt.show()"
   ]
  },
  {
   "cell_type": "markdown",
   "id": "connected-fifty",
   "metadata": {},
   "source": [
    "# model = ExtraTreesRegressor()\n",
    "model = RandomForestRegressor()\n",
    "\n",
    "# Literal Data\n",
    "cols = ['Player', 'Pos', 'Age','Status'] \n",
    "nba_dataset = full_nba_dataset.drop(cols,axis=1)\n",
    "X = nba_dataset.drop(['Share','Season'], axis=1)\n",
    "y = nba_dataset['Share']\n",
    "\n",
    "X_train, X_test, y_train, y_test = train_test_split(X, y, train_size = 0.8, random_state=10)\n",
    "\n",
    "# clf=RandomForestClassifier(n_estimators =10, random_state = 42, class_weight=\"balanced\")\n",
    "\n",
    "model.fit(X_train, y_train)\n",
    "\n",
    "data_dict = { 'Features' : X_train.columns, 'Importance' : model.feature_importances_ }\n",
    "# data_dict['Features'] = X_train.columns\n",
    "# data_dict['Importance'] = model.feature_importances_\n",
    "\n",
    "features = pd.DataFrame(data_dict).sort_values(by='Importance',ascending=False)\n",
    "display(features)\n",
    "\n",
    "nro_of_features = 6\n",
    "feature_list = list(features['Features'][:nro_of_features])\n",
    "\n",
    "plt.figure(figsize=(15, 5))\n",
    "ax = sns.barplot(x=features['Features'], y=features['Importance'])\n",
    "ax.tick_params(axis='x', rotation=90)\n",
    "ax.set_ylabel('Features')\n",
    "\n",
    "plt.figure(figsize=(30, 25)) \n",
    "sns.set_theme(style=\"ticks\")\n",
    "feature_list.append('Status')\n",
    "sns.pairplot(full_nba_dataset[feature_list], hue=\"Status\")"
   ]
  },
  {
   "cell_type": "code",
   "execution_count": null,
   "id": "unsigned-pontiac",
   "metadata": {},
   "outputs": [],
   "source": [
    "nba_dataset = full_nba_dataset[['VORP', 'WS', 'PER', 'BPM', 'USG%', 'PTS', 'Share', 'Season']]\n",
    "choosen_model = RandomForestRegressor(n_estimators=100,criterion='mae',max_depth=3)\n",
    "model_score(dataframe=nba_dataset,model=choosen_model,features=['VORP', 'WS', 'PER', 'BPM', 'USG%', 'PTS'],iterations=5,path='./misses/random_forest')\n",
    "\n",
    "# criterion='mae',max_depth=3"
   ]
  },
  {
   "cell_type": "raw",
   "id": "differential-darkness",
   "metadata": {},
   "source": [
    "def feature_selection(df, model):\n",
    "    X = df.drop(['Share'], axis=1)\n",
    "    y = df['Share']\n",
    "\n",
    "    X_train, X_test, y_train, y_test = train_test_split(X, y, train_size = 0.8, random_state=10)\n",
    "\n",
    "    model.fit(X_train, y_train)\n",
    "    features_importance = pd.DataFrame(model.feature_importances_, X_train.columns)\n",
    "    features_importance = features_importance.sort_values(by=0, ascending=False)\n",
    "\n",
    "    rows_to_drop = list()\n",
    "    \n",
    "#     threshold = (dict(features_importance.median(axis = 0, skipna = True))[0])\n",
    "    \n",
    "    threshold = features_importance[0].quantile(0.75)\n",
    "    \n",
    "    for item in features_importance.index:\n",
    "        if features_importance.at[item,0] <= threshold:\n",
    "            rows_to_drop.append(item)\n",
    "\n",
    "    top_features = features_importance.drop(rows_to_drop)\n",
    "\n",
    "    plt.figure(figsize=(15, 5))\n",
    "    ax = sns.barplot(x=features_importance.index, y=features_importance[0])\n",
    "    ax.tick_params(axis='x', rotation=90)\n",
    "    ax.set_ylabel('Features')\n",
    "\n",
    "    plt.figure(figsize=(15, 5))\n",
    "    ax2 = sns.barplot(x=top_features.index, y=top_features[0])\n",
    "    ax2.set_ylabel('Features')\n",
    "\n",
    "    print('Using only the {} most important features'.format(len(top_features)))\n",
    "    \n",
    "    plt.figure(figsize=(30, 25)) \n",
    "    sns.set_theme(style=\"ticks\")\n",
    "\n",
    "    cols = list(top_features.index)\n",
    "    cols.append('Status')\n",
    "\n",
    "    df = full_nba_dataset[cols]\n",
    "    sns.pairplot(df, hue=\"Status\")\n",
    "    \n",
    "    cols.pop(-1)\n",
    "    \n",
    "    return cols"
   ]
  },
  {
   "cell_type": "raw",
   "id": "leading-release",
   "metadata": {},
   "source": [
    "cols = ['Player', 'Pos', 'Age','Share'] \n",
    "classifier_nba_dataset = full_nba_dataset.drop(cols,axis=1)\n",
    "\n",
    "nro_corrects_l1 = 0\n",
    "nro_corrects_svc = 0\n",
    "\n",
    "C = 10\n",
    "# kernel = 1.0 * RBF([1.0, 1.0])  # for GPC\n",
    "\n",
    "models = {\n",
    "#     'L1 logistic': LogisticRegression(C=C, penalty='l1',\n",
    "#                                       solver='saga',\n",
    "#                                       multi_class='multinomial',\n",
    "#                                       max_iter=10000),\n",
    "#     'L2 logistic (Multinomial)': LogisticRegression(C=C, penalty='l2',\n",
    "#                                                     solver='saga',\n",
    "#                                                     multi_class='multinomial',\n",
    "#                                                     max_iter=10000),\n",
    "#     'L2 logistic (OvR)': LogisticRegression(C=C, penalty='l2',\n",
    "#                                             solver='saga',\n",
    "#                                             multi_class='ovr',\n",
    "#                                             max_iter=10000),\n",
    "#     'Linear SVC': SVC(),\n",
    "#     'GPC': GaussianProcessClassifier(),\n",
    "#    'K-Neighbors' : KNeighborsClassifier()\n",
    "    'Decision Tree' : DecisionTreeClassifier(criterion='entropy',max_depth=3)\n",
    "}\n",
    "\n",
    "for season in np.arange(1981,2021,1):\n",
    "\n",
    "    print(f'Season : {season}\\n--------------------------------')\n",
    "\n",
    "    y_train = classifier_nba_dataset.loc[(classifier_nba_dataset['Season'] != season),['Status']]\n",
    "    y_train = np.ravel(y_train)\n",
    "    y_test = classifier_nba_dataset.loc[(classifier_nba_dataset['Season'] == season),['Status']]\n",
    "    y_test = np.ravel(y_test)\n",
    "\n",
    "    X_train = classifier_nba_dataset.loc[(classifier_nba_dataset['Season'] != season),:].drop(['Status','Season'], axis=1)\n",
    "    X_test = classifier_nba_dataset.loc[(classifier_nba_dataset['Season'] == season),:].drop(['Status','Season'], axis=1)    \n",
    "\n",
    "    for model_name in models.keys():\n",
    "\n",
    "        models[model_name].fit(X_train, y_train)\n",
    "\n",
    "        pred = models[model_name].predict(X_test)\n",
    "        accuracy = accuracy_score(y_test, pred)\n",
    "        accuracy = '{0:.2f}'.format(accuracy*100)\n",
    "        accuracy = str(accuracy) + '%'\n",
    "        print(model_name + \" : \" + accuracy)\n",
    "\n",
    "        df = full_nba_dataset.loc[(full_nba_dataset['Season'] == season),['Player','Status','Share']]\n",
    "        df['Pred'] = pred.tolist()\n",
    "        df = df.loc[(df['Status'] != 'OOR'),:].sort_values(by='Share', ascending=False)\n",
    "        df = df.drop('Share',axis=1)\n",
    "\n",
    "        if df.iloc[0,1] == df.iloc[0,2]:\n",
    "            print('Success')\n",
    "            if model_name == 'L1 logistic':\n",
    "                nro_corrects_l1 += 1\n",
    "            else:\n",
    "                nro_corrects_svc += 1\n",
    "        else:\n",
    "            print('Fail')\n",
    "\n",
    "        display(df.iloc[:3])\n",
    "\n",
    "print(f'L1_SUCCESS_RATE: {nro_corrects_l1/40}\\nSVC_SUCCESS_RATE: {nro_corrects_svc/40}')"
   ]
  },
  {
   "cell_type": "raw",
   "id": "institutional-stability",
   "metadata": {},
   "source": [
    "cols = ['Player', 'Pos', 'Age','Share'] \n",
    "classifier_nba_dataset = full_nba_dataset.drop(cols,axis=1)\n",
    "\n",
    "C = 10\n",
    "models = {\n",
    "    'L1 logistic': LogisticRegression(C=C, penalty='l1',\n",
    "                                      solver='saga',\n",
    "                                      multi_class='multinomial',\n",
    "                                      max_iter=10000),\n",
    "    'L2 logistic (Multinomial)': LogisticRegression(C=C, penalty='l2',\n",
    "                                                    solver='saga',\n",
    "                                                    multi_class='multinomial',\n",
    "                                                    max_iter=10000),\n",
    "    'L2 logistic (OvR)': LogisticRegression(C=C, penalty='l2',\n",
    "                                            solver='saga',\n",
    "                                            multi_class='ovr',\n",
    "                                            max_iter=10000),\n",
    "    'Linear SVC': SVC(),\n",
    "    'GPC': GaussianProcessClassifier(),    \n",
    "    'K-Neighbors' : KNeighborsClassifier(),\n",
    "    'Decision Tree' : DecisionTreeClassifier(criterion='entropy',max_depth=3)\n",
    "    \n",
    "}\n",
    "\n",
    "y = classifier_nba_dataset['Status']\n",
    "X = classifier_nba_dataset.drop('Status',axis=1)\n",
    "\n",
    "for model_name in models:\n",
    "    scores = cross_val_score(models[model_name], X, y, cv=5)\n",
    "    print(f'{model_name} : {scores.mean()} >> {scores} ')\n",
    "    \n",
    "# Order : L1 = L2 > L2 OvR > SVC > K-Neighbors > GPC \n",
    "# L1 logistic : 0.9621882346560533 >> [0.95753425 0.96484018 0.95981735 0.96757991 0.96116948] \n",
    "# L2 logistic (Multinomial) : 0.9621882346560533 >> [0.95753425 0.96484018 0.95981735 0.96757991 0.96116948] \n",
    "# L2 logistic (OvR) : 0.9618231464503924 >> [0.95616438 0.96392694 0.95981735 0.96575342 0.96345363] \n",
    "# Linear SVC : 0.9545166263029554 >> [0.94794521 0.95981735 0.95159817 0.95616438 0.95705802] \n",
    "# K-Neighbors : 0.9524157524859665 >> [0.9456621  0.956621   0.95251142 0.95479452 0.95248972]\n",
    "# GPC : 0.9395378720084441 >> [0.93926941 0.93926941 0.93972603 0.93972603 0.93969849] "
   ]
  }
 ],
 "metadata": {
  "kernelspec": {
   "display_name": "Python 3",
   "language": "python",
   "name": "python3"
  },
  "language_info": {
   "codemirror_mode": {
    "name": "ipython",
    "version": 3
   },
   "file_extension": ".py",
   "mimetype": "text/x-python",
   "name": "python",
   "nbconvert_exporter": "python",
   "pygments_lexer": "ipython3",
   "version": "3.8.5"
  }
 },
 "nbformat": 4,
 "nbformat_minor": 5
}
