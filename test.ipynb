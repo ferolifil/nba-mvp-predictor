{
 "cells": [
  {
   "cell_type": "code",
   "execution_count": 1,
   "id": "impossible-passage",
   "metadata": {},
   "outputs": [],
   "source": [
    "import pandas as pd\n",
    "import numpy as np"
   ]
  },
  {
   "cell_type": "code",
   "execution_count": null,
   "id": "occupied-portrait",
   "metadata": {},
   "outputs": [],
   "source": []
  },
  {
   "cell_type": "code",
   "execution_count": 2,
   "id": "illegal-treasurer",
   "metadata": {},
   "outputs": [],
   "source": [
    "def teams_std(df, season):\n",
    "    \n",
    "    team_dict = {\n",
    "    'Atlanta Hawks' : 'ATL',\n",
    "    'Boston Celtics' : 'BOS',\n",
    "    'Brooklyn Nets' : 'BRK',\n",
    "    'Charlotte Hornets' : 'CHO', # 2015 - now\n",
    "    'Chicago Bulls' : 'CHI',\n",
    "    'Cleveland Cavaliers' : 'CLE',\n",
    "    'Dallas Mavericks' : 'DAL',\n",
    "    'Denver Nuggets' : 'DEN',\n",
    "    'Detroit Pistons' : 'DET',\n",
    "    'Golden State Warriors' : 'GSW',\n",
    "    'Houston Rockets' : 'HOU',\n",
    "    'Indiana Pacers' : 'IND',\n",
    "    'Los Angeles Clippers' : 'LAC',\n",
    "    'Los Angeles Lakers' : 'LAL',\n",
    "    'Memphis Grizzlies' : 'MEM',\n",
    "    'Miami Heat' : 'MIA',\n",
    "    'Milwaukee Bucks' : 'MIL',\n",
    "    'Minnesota Timberwolves' : 'MIN',\n",
    "    'New Orleans Pelicans' : 'NOP',\n",
    "    'New York Knicks' : 'NYK',\n",
    "    'Oklahoma City Thunder' : 'OKC',\n",
    "    'Orlando Magic' : 'ORL',\n",
    "    'Philadelphia 76ers' : 'PHI',\n",
    "    'Phoenix Suns' : 'PHO',\n",
    "    'Portland Trail Blazers' : 'POR',\n",
    "    'Sacramento Kings' : 'SAC',\n",
    "    'San Antonio Spurs' : 'SAS',\n",
    "    'Toronto Raptors' : 'TOR',\n",
    "    'Utah Jazz' : 'UTA',\n",
    "    'Washington Wizards' : 'WAS',\n",
    "    'Seattle SuperSonics' : 'SEA',\n",
    "    'San Diego Clippers' : 'SDC',\n",
    "    'Kansas City Kings' : 'KCK',\n",
    "    'Washington Bullets' : 'WSB',\n",
    "    'New Jersey Nets' : 'NJN',\n",
    "    'Charlotte Hornets CLASSIC' : 'CHH', # 1989 - 2002 \n",
    "    'Vancouver Grizzlies' : 'VAN',\n",
    "    'New Orleans Hornets' : 'NOH', # 2003 - 2005 / 2008 - 2014\n",
    "    'Charlotte Bobcats' : 'CHA',\n",
    "    'New Orleans/Oklahoma City Hornets' : 'NOK', # 2006 - 2007\n",
    "    }\n",
    "\n",
    "    chh_issue = np.arange(1989,2003,1)\n",
    "    tm_list = []\n",
    "    rows_to_drop = []\n",
    "\n",
    "    for i in df.index:\n",
    "        if df.at[i,'Team'] == 'Charlotte Hornets' and season in chh_issue:\n",
    "            tm_list.append('CHH')\n",
    "        elif df.at[i,'Team'] in team_dict.keys():\n",
    "            tm_list.append(team_dict[df.at[i,'Team']])\n",
    "        else:\n",
    "            rows_to_drop.append(i)\n",
    "\n",
    "    df = df.drop(rows_to_drop)        \n",
    "    df['Tm'] = tm_list\n",
    "    df = df[['Tm','W']]\n",
    "    df.sort_values(r'W',ascending=False)"
   ]
  },
  {
   "cell_type": "code",
   "execution_count": 3,
   "id": "funny-pulse",
   "metadata": {},
   "outputs": [
    {
     "name": "stdout",
     "output_type": "stream",
     "text": [
      "<class 'pandas.core.frame.DataFrame'>\n",
      "Int64Index: 21 entries, 0 to 22\n",
      "Data columns (total 2 columns):\n",
      " #   Column  Non-Null Count  Dtype \n",
      "---  ------  --------------  ----- \n",
      " 0   Tm      21 non-null     object\n",
      " 1   W       21 non-null     int64 \n",
      "dtypes: int64(1), object(1)\n",
      "memory usage: 504.0+ bytes\n"
     ]
    },
    {
     "data": {
      "text/plain": [
       "None"
      ]
     },
     "metadata": {},
     "output_type": "display_data"
    },
    {
     "name": "stdout",
     "output_type": "stream",
     "text": [
      "<class 'pandas.core.frame.DataFrame'>\n",
      "Int64Index: 21 entries, 0 to 22\n",
      "Data columns (total 2 columns):\n",
      " #   Column  Non-Null Count  Dtype \n",
      "---  ------  --------------  ----- \n",
      " 0   Tm      21 non-null     object\n",
      " 1   W       21 non-null     int64 \n",
      "dtypes: int64(1), object(1)\n",
      "memory usage: 504.0+ bytes\n"
     ]
    },
    {
     "data": {
      "text/plain": [
       "None"
      ]
     },
     "metadata": {},
     "output_type": "display_data"
    },
    {
     "name": "stdout",
     "output_type": "stream",
     "text": [
      "<class 'pandas.core.frame.DataFrame'>\n",
      "Int64Index: 21 entries, 0 to 22\n",
      "Data columns (total 2 columns):\n",
      " #   Column  Non-Null Count  Dtype \n",
      "---  ------  --------------  ----- \n",
      " 0   Tm      21 non-null     object\n",
      " 1   W       21 non-null     int64 \n",
      "dtypes: int64(1), object(1)\n",
      "memory usage: 504.0+ bytes\n"
     ]
    },
    {
     "data": {
      "text/plain": [
       "None"
      ]
     },
     "metadata": {},
     "output_type": "display_data"
    },
    {
     "name": "stdout",
     "output_type": "stream",
     "text": [
      "<class 'pandas.core.frame.DataFrame'>\n",
      "Int64Index: 21 entries, 0 to 22\n",
      "Data columns (total 2 columns):\n",
      " #   Column  Non-Null Count  Dtype \n",
      "---  ------  --------------  ----- \n",
      " 0   Tm      21 non-null     object\n",
      " 1   W       21 non-null     int64 \n",
      "dtypes: int64(1), object(1)\n",
      "memory usage: 504.0+ bytes\n"
     ]
    },
    {
     "data": {
      "text/plain": [
       "None"
      ]
     },
     "metadata": {},
     "output_type": "display_data"
    },
    {
     "name": "stdout",
     "output_type": "stream",
     "text": [
      "<class 'pandas.core.frame.DataFrame'>\n",
      "Int64Index: 21 entries, 0 to 22\n",
      "Data columns (total 2 columns):\n",
      " #   Column  Non-Null Count  Dtype \n",
      "---  ------  --------------  ----- \n",
      " 0   Tm      21 non-null     object\n",
      " 1   W       21 non-null     int64 \n",
      "dtypes: int64(1), object(1)\n",
      "memory usage: 504.0+ bytes\n"
     ]
    },
    {
     "data": {
      "text/plain": [
       "None"
      ]
     },
     "metadata": {},
     "output_type": "display_data"
    },
    {
     "name": "stdout",
     "output_type": "stream",
     "text": [
      "<class 'pandas.core.frame.DataFrame'>\n",
      "Int64Index: 21 entries, 0 to 22\n",
      "Data columns (total 2 columns):\n",
      " #   Column  Non-Null Count  Dtype \n",
      "---  ------  --------------  ----- \n",
      " 0   Tm      21 non-null     object\n",
      " 1   W       21 non-null     int64 \n",
      "dtypes: int64(1), object(1)\n",
      "memory usage: 504.0+ bytes\n"
     ]
    },
    {
     "data": {
      "text/plain": [
       "None"
      ]
     },
     "metadata": {},
     "output_type": "display_data"
    },
    {
     "name": "stdout",
     "output_type": "stream",
     "text": [
      "<class 'pandas.core.frame.DataFrame'>\n",
      "Int64Index: 21 entries, 0 to 22\n",
      "Data columns (total 2 columns):\n",
      " #   Column  Non-Null Count  Dtype \n",
      "---  ------  --------------  ----- \n",
      " 0   Tm      21 non-null     object\n",
      " 1   W       21 non-null     int64 \n",
      "dtypes: int64(1), object(1)\n",
      "memory usage: 504.0+ bytes\n"
     ]
    },
    {
     "data": {
      "text/plain": [
       "None"
      ]
     },
     "metadata": {},
     "output_type": "display_data"
    },
    {
     "name": "stdout",
     "output_type": "stream",
     "text": [
      "<class 'pandas.core.frame.DataFrame'>\n",
      "Int64Index: 21 entries, 0 to 22\n",
      "Data columns (total 2 columns):\n",
      " #   Column  Non-Null Count  Dtype \n",
      "---  ------  --------------  ----- \n",
      " 0   Tm      21 non-null     object\n",
      " 1   W       21 non-null     int64 \n",
      "dtypes: int64(1), object(1)\n",
      "memory usage: 504.0+ bytes\n"
     ]
    },
    {
     "data": {
      "text/plain": [
       "None"
      ]
     },
     "metadata": {},
     "output_type": "display_data"
    },
    {
     "name": "stdout",
     "output_type": "stream",
     "text": [
      "<class 'pandas.core.frame.DataFrame'>\n",
      "Int64Index: 23 entries, 0 to 24\n",
      "Data columns (total 2 columns):\n",
      " #   Column  Non-Null Count  Dtype \n",
      "---  ------  --------------  ----- \n",
      " 0   Tm      23 non-null     object\n",
      " 1   W       23 non-null     int64 \n",
      "dtypes: int64(1), object(1)\n",
      "memory usage: 552.0+ bytes\n"
     ]
    },
    {
     "data": {
      "text/plain": [
       "None"
      ]
     },
     "metadata": {},
     "output_type": "display_data"
    },
    {
     "name": "stdout",
     "output_type": "stream",
     "text": [
      "<class 'pandas.core.frame.DataFrame'>\n",
      "Int64Index: 25 entries, 0 to 26\n",
      "Data columns (total 2 columns):\n",
      " #   Column  Non-Null Count  Dtype \n",
      "---  ------  --------------  ----- \n",
      " 0   Tm      25 non-null     object\n",
      " 1   W       25 non-null     int64 \n",
      "dtypes: int64(1), object(1)\n",
      "memory usage: 600.0+ bytes\n"
     ]
    },
    {
     "data": {
      "text/plain": [
       "None"
      ]
     },
     "metadata": {},
     "output_type": "display_data"
    },
    {
     "name": "stdout",
     "output_type": "stream",
     "text": [
      "<class 'pandas.core.frame.DataFrame'>\n",
      "Int64Index: 25 entries, 0 to 26\n",
      "Data columns (total 2 columns):\n",
      " #   Column  Non-Null Count  Dtype \n",
      "---  ------  --------------  ----- \n",
      " 0   Tm      25 non-null     object\n",
      " 1   W       25 non-null     int64 \n",
      "dtypes: int64(1), object(1)\n",
      "memory usage: 600.0+ bytes\n"
     ]
    },
    {
     "data": {
      "text/plain": [
       "None"
      ]
     },
     "metadata": {},
     "output_type": "display_data"
    },
    {
     "name": "stdout",
     "output_type": "stream",
     "text": [
      "<class 'pandas.core.frame.DataFrame'>\n",
      "Int64Index: 25 entries, 0 to 26\n",
      "Data columns (total 2 columns):\n",
      " #   Column  Non-Null Count  Dtype \n",
      "---  ------  --------------  ----- \n",
      " 0   Tm      25 non-null     object\n",
      " 1   W       25 non-null     int64 \n",
      "dtypes: int64(1), object(1)\n",
      "memory usage: 600.0+ bytes\n"
     ]
    },
    {
     "data": {
      "text/plain": [
       "None"
      ]
     },
     "metadata": {},
     "output_type": "display_data"
    },
    {
     "name": "stdout",
     "output_type": "stream",
     "text": [
      "<class 'pandas.core.frame.DataFrame'>\n",
      "Int64Index: 25 entries, 0 to 26\n",
      "Data columns (total 2 columns):\n",
      " #   Column  Non-Null Count  Dtype \n",
      "---  ------  --------------  ----- \n",
      " 0   Tm      25 non-null     object\n",
      " 1   W       25 non-null     int64 \n",
      "dtypes: int64(1), object(1)\n",
      "memory usage: 600.0+ bytes\n"
     ]
    },
    {
     "data": {
      "text/plain": [
       "None"
      ]
     },
     "metadata": {},
     "output_type": "display_data"
    },
    {
     "name": "stdout",
     "output_type": "stream",
     "text": [
      "<class 'pandas.core.frame.DataFrame'>\n",
      "Int64Index: 25 entries, 0 to 26\n",
      "Data columns (total 2 columns):\n",
      " #   Column  Non-Null Count  Dtype \n",
      "---  ------  --------------  ----- \n",
      " 0   Tm      25 non-null     object\n",
      " 1   W       25 non-null     int64 \n",
      "dtypes: int64(1), object(1)\n",
      "memory usage: 600.0+ bytes\n"
     ]
    },
    {
     "data": {
      "text/plain": [
       "None"
      ]
     },
     "metadata": {},
     "output_type": "display_data"
    },
    {
     "name": "stdout",
     "output_type": "stream",
     "text": [
      "<class 'pandas.core.frame.DataFrame'>\n",
      "Int64Index: 25 entries, 0 to 26\n",
      "Data columns (total 2 columns):\n",
      " #   Column  Non-Null Count  Dtype \n",
      "---  ------  --------------  ----- \n",
      " 0   Tm      25 non-null     object\n",
      " 1   W       25 non-null     int64 \n",
      "dtypes: int64(1), object(1)\n",
      "memory usage: 600.0+ bytes\n"
     ]
    },
    {
     "data": {
      "text/plain": [
       "None"
      ]
     },
     "metadata": {},
     "output_type": "display_data"
    },
    {
     "name": "stdout",
     "output_type": "stream",
     "text": [
      "<class 'pandas.core.frame.DataFrame'>\n",
      "Int64Index: 27 entries, 0 to 28\n",
      "Data columns (total 2 columns):\n",
      " #   Column  Non-Null Count  Dtype \n",
      "---  ------  --------------  ----- \n",
      " 0   Tm      27 non-null     object\n",
      " 1   W       27 non-null     int64 \n",
      "dtypes: int64(1), object(1)\n",
      "memory usage: 648.0+ bytes\n"
     ]
    },
    {
     "data": {
      "text/plain": [
       "None"
      ]
     },
     "metadata": {},
     "output_type": "display_data"
    },
    {
     "name": "stdout",
     "output_type": "stream",
     "text": [
      "<class 'pandas.core.frame.DataFrame'>\n",
      "Int64Index: 27 entries, 0 to 28\n",
      "Data columns (total 2 columns):\n",
      " #   Column  Non-Null Count  Dtype \n",
      "---  ------  --------------  ----- \n",
      " 0   Tm      27 non-null     object\n",
      " 1   W       27 non-null     int64 \n",
      "dtypes: int64(1), object(1)\n",
      "memory usage: 648.0+ bytes\n"
     ]
    },
    {
     "data": {
      "text/plain": [
       "None"
      ]
     },
     "metadata": {},
     "output_type": "display_data"
    },
    {
     "name": "stdout",
     "output_type": "stream",
     "text": [
      "<class 'pandas.core.frame.DataFrame'>\n",
      "Int64Index: 27 entries, 0 to 28\n",
      "Data columns (total 2 columns):\n",
      " #   Column  Non-Null Count  Dtype \n",
      "---  ------  --------------  ----- \n",
      " 0   Tm      27 non-null     object\n",
      " 1   W       27 non-null     int64 \n",
      "dtypes: int64(1), object(1)\n",
      "memory usage: 648.0+ bytes\n"
     ]
    },
    {
     "data": {
      "text/plain": [
       "None"
      ]
     },
     "metadata": {},
     "output_type": "display_data"
    },
    {
     "name": "stdout",
     "output_type": "stream",
     "text": [
      "<class 'pandas.core.frame.DataFrame'>\n",
      "Int64Index: 27 entries, 0 to 28\n",
      "Data columns (total 2 columns):\n",
      " #   Column  Non-Null Count  Dtype \n",
      "---  ------  --------------  ----- \n",
      " 0   Tm      27 non-null     object\n",
      " 1   W       27 non-null     int64 \n",
      "dtypes: int64(1), object(1)\n",
      "memory usage: 648.0+ bytes\n"
     ]
    },
    {
     "data": {
      "text/plain": [
       "None"
      ]
     },
     "metadata": {},
     "output_type": "display_data"
    },
    {
     "name": "stdout",
     "output_type": "stream",
     "text": [
      "<class 'pandas.core.frame.DataFrame'>\n",
      "Int64Index: 27 entries, 0 to 28\n",
      "Data columns (total 2 columns):\n",
      " #   Column  Non-Null Count  Dtype \n",
      "---  ------  --------------  ----- \n",
      " 0   Tm      27 non-null     object\n",
      " 1   W       27 non-null     int64 \n",
      "dtypes: int64(1), object(1)\n",
      "memory usage: 648.0+ bytes\n"
     ]
    },
    {
     "data": {
      "text/plain": [
       "None"
      ]
     },
     "metadata": {},
     "output_type": "display_data"
    },
    {
     "name": "stdout",
     "output_type": "stream",
     "text": [
      "<class 'pandas.core.frame.DataFrame'>\n",
      "Int64Index: 27 entries, 0 to 28\n",
      "Data columns (total 2 columns):\n",
      " #   Column  Non-Null Count  Dtype \n",
      "---  ------  --------------  ----- \n",
      " 0   Tm      27 non-null     object\n",
      " 1   W       27 non-null     int64 \n",
      "dtypes: int64(1), object(1)\n",
      "memory usage: 648.0+ bytes\n"
     ]
    },
    {
     "data": {
      "text/plain": [
       "None"
      ]
     },
     "metadata": {},
     "output_type": "display_data"
    },
    {
     "name": "stdout",
     "output_type": "stream",
     "text": [
      "<class 'pandas.core.frame.DataFrame'>\n",
      "Int64Index: 27 entries, 0 to 28\n",
      "Data columns (total 2 columns):\n",
      " #   Column  Non-Null Count  Dtype \n",
      "---  ------  --------------  ----- \n",
      " 0   Tm      27 non-null     object\n",
      " 1   W       27 non-null     int64 \n",
      "dtypes: int64(1), object(1)\n",
      "memory usage: 648.0+ bytes\n"
     ]
    },
    {
     "data": {
      "text/plain": [
       "None"
      ]
     },
     "metadata": {},
     "output_type": "display_data"
    },
    {
     "name": "stdout",
     "output_type": "stream",
     "text": [
      "<class 'pandas.core.frame.DataFrame'>\n",
      "Int64Index: 27 entries, 0 to 28\n",
      "Data columns (total 2 columns):\n",
      " #   Column  Non-Null Count  Dtype \n",
      "---  ------  --------------  ----- \n",
      " 0   Tm      27 non-null     object\n",
      " 1   W       27 non-null     int64 \n",
      "dtypes: int64(1), object(1)\n",
      "memory usage: 648.0+ bytes\n"
     ]
    },
    {
     "data": {
      "text/plain": [
       "None"
      ]
     },
     "metadata": {},
     "output_type": "display_data"
    },
    {
     "name": "stdout",
     "output_type": "stream",
     "text": [
      "<class 'pandas.core.frame.DataFrame'>\n",
      "Int64Index: 27 entries, 0 to 28\n",
      "Data columns (total 2 columns):\n",
      " #   Column  Non-Null Count  Dtype \n",
      "---  ------  --------------  ----- \n",
      " 0   Tm      27 non-null     object\n",
      " 1   W       27 non-null     int64 \n",
      "dtypes: int64(1), object(1)\n",
      "memory usage: 648.0+ bytes\n"
     ]
    },
    {
     "data": {
      "text/plain": [
       "None"
      ]
     },
     "metadata": {},
     "output_type": "display_data"
    },
    {
     "name": "stdout",
     "output_type": "stream",
     "text": [
      "<class 'pandas.core.frame.DataFrame'>\n",
      "Int64Index: 30 entries, 0 to 29\n",
      "Data columns (total 2 columns):\n",
      " #   Column  Non-Null Count  Dtype \n",
      "---  ------  --------------  ----- \n",
      " 0   Tm      30 non-null     object\n",
      " 1   W       30 non-null     int64 \n",
      "dtypes: int64(1), object(1)\n",
      "memory usage: 720.0+ bytes\n"
     ]
    },
    {
     "data": {
      "text/plain": [
       "None"
      ]
     },
     "metadata": {},
     "output_type": "display_data"
    },
    {
     "name": "stdout",
     "output_type": "stream",
     "text": [
      "<class 'pandas.core.frame.DataFrame'>\n",
      "Int64Index: 30 entries, 0 to 29\n",
      "Data columns (total 2 columns):\n",
      " #   Column  Non-Null Count  Dtype \n",
      "---  ------  --------------  ----- \n",
      " 0   Tm      30 non-null     object\n",
      " 1   W       30 non-null     int64 \n",
      "dtypes: int64(1), object(1)\n",
      "memory usage: 720.0+ bytes\n"
     ]
    },
    {
     "data": {
      "text/plain": [
       "None"
      ]
     },
     "metadata": {},
     "output_type": "display_data"
    },
    {
     "name": "stdout",
     "output_type": "stream",
     "text": [
      "<class 'pandas.core.frame.DataFrame'>\n",
      "Int64Index: 30 entries, 0 to 29\n",
      "Data columns (total 2 columns):\n",
      " #   Column  Non-Null Count  Dtype \n",
      "---  ------  --------------  ----- \n",
      " 0   Tm      30 non-null     object\n",
      " 1   W       30 non-null     int64 \n",
      "dtypes: int64(1), object(1)\n",
      "memory usage: 720.0+ bytes\n"
     ]
    },
    {
     "data": {
      "text/plain": [
       "None"
      ]
     },
     "metadata": {},
     "output_type": "display_data"
    },
    {
     "name": "stdout",
     "output_type": "stream",
     "text": [
      "<class 'pandas.core.frame.DataFrame'>\n",
      "Int64Index: 30 entries, 0 to 29\n",
      "Data columns (total 2 columns):\n",
      " #   Column  Non-Null Count  Dtype \n",
      "---  ------  --------------  ----- \n",
      " 0   Tm      30 non-null     object\n",
      " 1   W       30 non-null     int64 \n",
      "dtypes: int64(1), object(1)\n",
      "memory usage: 720.0+ bytes\n"
     ]
    },
    {
     "data": {
      "text/plain": [
       "None"
      ]
     },
     "metadata": {},
     "output_type": "display_data"
    },
    {
     "name": "stdout",
     "output_type": "stream",
     "text": [
      "<class 'pandas.core.frame.DataFrame'>\n",
      "Int64Index: 30 entries, 0 to 29\n",
      "Data columns (total 2 columns):\n",
      " #   Column  Non-Null Count  Dtype \n",
      "---  ------  --------------  ----- \n",
      " 0   Tm      30 non-null     object\n",
      " 1   W       30 non-null     int64 \n",
      "dtypes: int64(1), object(1)\n",
      "memory usage: 720.0+ bytes\n"
     ]
    },
    {
     "data": {
      "text/plain": [
       "None"
      ]
     },
     "metadata": {},
     "output_type": "display_data"
    },
    {
     "name": "stdout",
     "output_type": "stream",
     "text": [
      "<class 'pandas.core.frame.DataFrame'>\n",
      "Int64Index: 30 entries, 0 to 29\n",
      "Data columns (total 2 columns):\n",
      " #   Column  Non-Null Count  Dtype \n",
      "---  ------  --------------  ----- \n",
      " 0   Tm      30 non-null     object\n",
      " 1   W       30 non-null     int64 \n",
      "dtypes: int64(1), object(1)\n",
      "memory usage: 720.0+ bytes\n"
     ]
    },
    {
     "data": {
      "text/plain": [
       "None"
      ]
     },
     "metadata": {},
     "output_type": "display_data"
    },
    {
     "name": "stdout",
     "output_type": "stream",
     "text": [
      "<class 'pandas.core.frame.DataFrame'>\n",
      "Int64Index: 30 entries, 0 to 29\n",
      "Data columns (total 2 columns):\n",
      " #   Column  Non-Null Count  Dtype \n",
      "---  ------  --------------  ----- \n",
      " 0   Tm      30 non-null     object\n",
      " 1   W       30 non-null     int64 \n",
      "dtypes: int64(1), object(1)\n",
      "memory usage: 720.0+ bytes\n"
     ]
    },
    {
     "data": {
      "text/plain": [
       "None"
      ]
     },
     "metadata": {},
     "output_type": "display_data"
    },
    {
     "name": "stdout",
     "output_type": "stream",
     "text": [
      "<class 'pandas.core.frame.DataFrame'>\n",
      "Int64Index: 30 entries, 0 to 29\n",
      "Data columns (total 2 columns):\n",
      " #   Column  Non-Null Count  Dtype \n",
      "---  ------  --------------  ----- \n",
      " 0   Tm      30 non-null     object\n",
      " 1   W       30 non-null     int64 \n",
      "dtypes: int64(1), object(1)\n",
      "memory usage: 720.0+ bytes\n"
     ]
    },
    {
     "data": {
      "text/plain": [
       "None"
      ]
     },
     "metadata": {},
     "output_type": "display_data"
    },
    {
     "name": "stdout",
     "output_type": "stream",
     "text": [
      "<class 'pandas.core.frame.DataFrame'>\n",
      "Int64Index: 30 entries, 0 to 29\n",
      "Data columns (total 2 columns):\n",
      " #   Column  Non-Null Count  Dtype \n",
      "---  ------  --------------  ----- \n",
      " 0   Tm      30 non-null     object\n",
      " 1   W       30 non-null     int64 \n",
      "dtypes: int64(1), object(1)\n",
      "memory usage: 720.0+ bytes\n"
     ]
    },
    {
     "data": {
      "text/plain": [
       "None"
      ]
     },
     "metadata": {},
     "output_type": "display_data"
    },
    {
     "name": "stdout",
     "output_type": "stream",
     "text": [
      "<class 'pandas.core.frame.DataFrame'>\n",
      "Int64Index: 30 entries, 0 to 29\n",
      "Data columns (total 2 columns):\n",
      " #   Column  Non-Null Count  Dtype \n",
      "---  ------  --------------  ----- \n",
      " 0   Tm      30 non-null     object\n",
      " 1   W       30 non-null     int64 \n",
      "dtypes: int64(1), object(1)\n",
      "memory usage: 720.0+ bytes\n"
     ]
    },
    {
     "data": {
      "text/plain": [
       "None"
      ]
     },
     "metadata": {},
     "output_type": "display_data"
    },
    {
     "name": "stdout",
     "output_type": "stream",
     "text": [
      "<class 'pandas.core.frame.DataFrame'>\n",
      "Int64Index: 30 entries, 0 to 29\n",
      "Data columns (total 2 columns):\n",
      " #   Column  Non-Null Count  Dtype \n",
      "---  ------  --------------  ----- \n",
      " 0   Tm      30 non-null     object\n",
      " 1   W       30 non-null     int64 \n",
      "dtypes: int64(1), object(1)\n",
      "memory usage: 720.0+ bytes\n"
     ]
    },
    {
     "data": {
      "text/plain": [
       "None"
      ]
     },
     "metadata": {},
     "output_type": "display_data"
    },
    {
     "name": "stdout",
     "output_type": "stream",
     "text": [
      "<class 'pandas.core.frame.DataFrame'>\n",
      "Int64Index: 30 entries, 0 to 29\n",
      "Data columns (total 2 columns):\n",
      " #   Column  Non-Null Count  Dtype \n",
      "---  ------  --------------  ----- \n",
      " 0   Tm      30 non-null     object\n",
      " 1   W       30 non-null     int64 \n",
      "dtypes: int64(1), object(1)\n",
      "memory usage: 720.0+ bytes\n"
     ]
    },
    {
     "data": {
      "text/plain": [
       "None"
      ]
     },
     "metadata": {},
     "output_type": "display_data"
    },
    {
     "name": "stdout",
     "output_type": "stream",
     "text": [
      "<class 'pandas.core.frame.DataFrame'>\n",
      "Int64Index: 30 entries, 0 to 29\n",
      "Data columns (total 2 columns):\n",
      " #   Column  Non-Null Count  Dtype \n",
      "---  ------  --------------  ----- \n",
      " 0   Tm      30 non-null     object\n",
      " 1   W       30 non-null     int64 \n",
      "dtypes: int64(1), object(1)\n",
      "memory usage: 720.0+ bytes\n"
     ]
    },
    {
     "data": {
      "text/plain": [
       "None"
      ]
     },
     "metadata": {},
     "output_type": "display_data"
    },
    {
     "name": "stdout",
     "output_type": "stream",
     "text": [
      "<class 'pandas.core.frame.DataFrame'>\n",
      "Int64Index: 30 entries, 0 to 29\n",
      "Data columns (total 2 columns):\n",
      " #   Column  Non-Null Count  Dtype \n",
      "---  ------  --------------  ----- \n",
      " 0   Tm      30 non-null     object\n",
      " 1   W       30 non-null     int64 \n",
      "dtypes: int64(1), object(1)\n",
      "memory usage: 720.0+ bytes\n"
     ]
    },
    {
     "data": {
      "text/plain": [
       "None"
      ]
     },
     "metadata": {},
     "output_type": "display_data"
    },
    {
     "name": "stdout",
     "output_type": "stream",
     "text": [
      "<class 'pandas.core.frame.DataFrame'>\n",
      "Int64Index: 30 entries, 0 to 29\n",
      "Data columns (total 2 columns):\n",
      " #   Column  Non-Null Count  Dtype \n",
      "---  ------  --------------  ----- \n",
      " 0   Tm      30 non-null     object\n",
      " 1   W       30 non-null     int64 \n",
      "dtypes: int64(1), object(1)\n",
      "memory usage: 720.0+ bytes\n"
     ]
    },
    {
     "data": {
      "text/plain": [
       "None"
      ]
     },
     "metadata": {},
     "output_type": "display_data"
    },
    {
     "name": "stdout",
     "output_type": "stream",
     "text": [
      "<class 'pandas.core.frame.DataFrame'>\n",
      "Int64Index: 30 entries, 0 to 29\n",
      "Data columns (total 2 columns):\n",
      " #   Column  Non-Null Count  Dtype \n",
      "---  ------  --------------  ----- \n",
      " 0   Tm      30 non-null     object\n",
      " 1   W       30 non-null     int64 \n",
      "dtypes: int64(1), object(1)\n",
      "memory usage: 720.0+ bytes\n"
     ]
    },
    {
     "data": {
      "text/plain": [
       "None"
      ]
     },
     "metadata": {},
     "output_type": "display_data"
    }
   ],
   "source": [
    "season_range = np.arange(1981,2021,1)\n",
    "\n",
    "for season in season_range:\n",
    "    df = pd.read_csv(f\"./basketball_reference_dbs/teams/{season}_teams.csv\")\n",
    "    teams_std(df,season)"
   ]
  },
  {
   "cell_type": "code",
   "execution_count": null,
   "id": "attached-basic",
   "metadata": {},
   "outputs": [],
   "source": []
  }
 ],
 "metadata": {
  "kernelspec": {
   "display_name": "Python 3",
   "language": "python",
   "name": "python3"
  },
  "language_info": {
   "codemirror_mode": {
    "name": "ipython",
    "version": 3
   },
   "file_extension": ".py",
   "mimetype": "text/x-python",
   "name": "python",
   "nbconvert_exporter": "python",
   "pygments_lexer": "ipython3",
   "version": "3.8.5"
  }
 },
 "nbformat": 4,
 "nbformat_minor": 5
}
